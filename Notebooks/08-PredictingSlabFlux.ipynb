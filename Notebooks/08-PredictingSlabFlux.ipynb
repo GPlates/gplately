{
 "cells": [
  {
   "cell_type": "markdown",
   "metadata": {},
   "source": [
    "# 8 - Predict slab flux\n",
    "\n",
    "Predict the slab flux of subducting oceanic lithosphere using the thickness of the subducting plate calculated by plate models of lithospheric cooling (from [Grose, 2012](https://doi.org/10.1016/j.epsl.2012.03.037)), the convervenge velocity, and the trench segment length.\n",
    "\n",
    "## Data packages\n",
    "\n",
    "A plate reconstruction and corresponding age grids of the seafloor are required to predict slab dip. These may be downloaded from https://www.earthbyte.org/gplates-2-3-software-and-data-sets/\n",
    "\n",
    "The calculation has been tested on [Clennett _et al._ (2020)](https://doi.org/10.1029/2020GC009117) and [Müller _et al._ (2019)](https://doi.org/10.1029/2018TC005462) plate reconstructions but should also work fine for other plate reconstructions.\n",
    "\n",
    "\n",
    "#### References\n",
    "\n",
    "- Grose, C. J. (2012). Properties of oceanic lithosphere: Revised plate cooling model predictions. Earth and Planetary Science Letters, 333–334, 250–264. https://doi.org/10.1016/j.epsl.2012.03.037\n",
    "- Clennett, E. J., Sigloch, K., Mihalynuk, M. G., Seton, M., Henderson, M. A., Hosseini, K., et al. (2020). A Quantitative Tomotectonic Plate Reconstruction of Western North America and the Eastern Pacific Basin. Geochemistry, Geophysics, Geosystems, 21(8), 1–25. https://doi.org/10.1029/2020GC009117\n",
    "- Müller, R. D., Zahirovic, S., Williams, S. E., Cannon, J., Seton, M., Bower, D. J., et al. (2019). A Global Plate Model Including Lithospheric Deformation Along Major Rifts and Orogens Since the Triassic. Tectonics, 38(6), 1884–1907. https://doi.org/10.1029/2018TC005462"
   ]
  },
  {
   "cell_type": "code",
   "execution_count": null,
   "metadata": {},
   "outputs": [],
   "source": [
    "%matplotlib inline\n",
    "import gplately\n",
    "import matplotlib.pyplot as plt\n",
    "import numpy as np\n",
    "from scipy.ndimage import gaussian_filter\n",
    "from plate_model_manager import PlateModelManager"
   ]
  },
  {
   "cell_type": "markdown",
   "metadata": {},
   "source": [
    "Let's compare subduction zone data between two plate models: Müller et al. 2016 and Müller et al. 2019."
   ]
  },
  {
   "cell_type": "code",
   "execution_count": null,
   "metadata": {},
   "outputs": [],
   "source": [
    "pm_manager = PlateModelManager()\n",
    "\n",
    "muller2019_model = pm_manager.get_model(\"Muller2019\", data_dir=\"plate-model-repo\")\n",
    "rotation_model = muller2019_model.get_rotation_model()\n",
    "topology_features = muller2019_model.get_topologies()\n",
    "model = gplately.PlateReconstruction(rotation_model, topology_features)\n",
    "\n",
    "muller2016_model = pm_manager.get_model(\"Muller2016\", data_dir=\"plate-model-repo\")\n",
    "rotation_model2 = muller2016_model.get_rotation_model()\n",
    "topology_features2 = muller2016_model.get_topologies()\n",
    "model2 = gplately.PlateReconstruction(rotation_model2, topology_features2)\n",
    "\n",
    "# Tessellate the subduction zones to 0.5 degrees.\n",
    "tessellation_threshold_radians = np.radians(0.05)\n",
    "\n",
    "extent_globe = [-180,180,-90,90]"
   ]
  },
  {
   "cell_type": "markdown",
   "metadata": {},
   "source": [
    "## Get kinematic data\n",
    "\n",
    "We extract plate kinematic data for the present-day configuration of subduction zones to calculate the dip angle of subducting slabs."
   ]
  },
  {
   "cell_type": "code",
   "execution_count": null,
   "metadata": {},
   "outputs": [],
   "source": [
    "def get_subduction_volume_rate(pmm_model, model, reconstruction_time):\n",
    "        \n",
    "    # calculate subduction convergence with gplately\n",
    "    subduction_data = model.tessellate_subduction_zones(\n",
    "        reconstruction_time, \n",
    "        output_subducting_absolute_velocity_components=True\n",
    "    )\n",
    "\n",
    "    subduction_lon     = subduction_data[:,0]\n",
    "    subduction_lat     = subduction_data[:,1]\n",
    "    subduction_angle   = subduction_data[:,3]\n",
    "    subduction_norm    = subduction_data[:,7]\n",
    "    subduction_pid_sub = subduction_data[:,8]\n",
    "    subduction_pid_over= subduction_data[:,9]\n",
    "    subduction_length  = np.radians(subduction_data[:,6])*gplately.tools.geocentric_radius(subduction_data[:,1])\n",
    "    subduction_convergence = np.fabs(subduction_data[:,2])*1e-2 * np.cos(np.radians(subduction_data[:,3]))\n",
    "    subduction_migration   = np.fabs(subduction_data[:,4])*1e-2 * np.cos(np.radians(subduction_data[:,5]))\n",
    "    subduction_plate_vel = subduction_data[:,10]\n",
    "\n",
    "    # remove entries that have \"negative\" subduction\n",
    "    # this occurs when the subduction obliquity is greater than 90 degrees\n",
    "    subduction_convergence = np.clip(subduction_convergence, 0, 1e99)\n",
    "\n",
    "    # sample AgeGrid for current timestep\n",
    "\n",
    "    # returns a Raster object\n",
    "    graster = gplately.Raster(\n",
    "        data=pmm_model.get_raster(\"AgeGrids\", reconstruction_time),\n",
    "        plate_reconstruction=model,\n",
    "        extent=[-180, 180, -90, 90],\n",
    "        )\n",
    "    graster.fill_NaNs(inplace=True)\n",
    "    age_interp = graster.interpolate(subduction_lon, subduction_lat)\n",
    "\n",
    "    subduction_age = age_interp\n",
    "    thickness = gplately.tools.plate_isotherm_depth(age_interp)\n",
    "\n",
    "    # calculate subduction volume rate - m * m * m/yr\n",
    "    subduction_vol_rate = thickness*subduction_length*subduction_convergence # integrated along subduction len\n",
    "    subduction_vol_rate *= 1e-9 # convert m^3/yr to km^3/yr\n",
    "\n",
    "    mean_plate_thickness             = thickness.mean()\n",
    "    mean_subduction_segment_length   = subduction_length.sum()\n",
    "    mean_subduction_convergence_rate = subduction_convergence.mean()\n",
    "    total_subduction_volume_rate     = subduction_vol_rate.sum()\n",
    "        \n",
    "    return (mean_plate_thickness,\n",
    "            mean_subduction_segment_length,\n",
    "            mean_subduction_convergence_rate,\n",
    "            total_subduction_volume_rate)"
   ]
  },
  {
   "cell_type": "code",
   "execution_count": null,
   "metadata": {
    "scrolled": true
   },
   "outputs": [],
   "source": [
    "# Calculate the total subduction volume rate (km^3/yr) per timestep for each plate model\n",
    "reconstruction_times = np.arange(0,231)\n",
    "\n",
    "# Muller 2019 model\n",
    "thk2019 = np.zeros(reconstruction_times.size) # mean plate thickness\n",
    "len2019 = np.zeros(reconstruction_times.size) # subduction zone length\n",
    "vel2019 = np.zeros(reconstruction_times.size) # mean convergence velocity\n",
    "vol2019 = np.zeros(reconstruction_times.size) # subduction flux\n",
    "\n",
    "# Muller 2016 model\n",
    "thk2016 = np.zeros(reconstruction_times.size)\n",
    "len2016 = np.zeros(reconstruction_times.size)\n",
    "vel2016 = np.zeros(reconstruction_times.size)\n",
    "vol2016 = np.zeros(reconstruction_times.size)\n",
    "\n",
    "\n",
    "for t, time in enumerate(reconstruction_times):\n",
    "    thk2019[t], len2019[t], vel2019[t], vol2019[t] = get_subduction_volume_rate(muller2019_model, model, time)\n",
    "    thk2016[t], len2016[t], vel2016[t], vol2016[t] = get_subduction_volume_rate(muller2016_model, model2, time)\n",
    "\n",
    "    gplately.tools.update_progress(time/reconstruction_times.size)\n",
    "gplately.tools.update_progress(1)  "
   ]
  },
  {
   "cell_type": "markdown",
   "metadata": {},
   "source": [
    "### Parallel processing\n",
    "\n",
    "GPlately supports parallel processing to distribute tasks over multiple processors. We recommend the [`joblib`](https://joblib.readthedocs.io/en/latest/) package to efficiently manage parallel resources. Below we demonstrate how the `get_subduction_volume_rate` function we defined above can be executed over multiple processors.\n",
    "\n",
    "> Note: On Windows platforms it appears `joblib` is running slower in parallel than in serial. So we disable parallel processing (on Windows) with `n_jobs=None`."
   ]
  },
  {
   "cell_type": "code",
   "execution_count": null,
   "metadata": {},
   "outputs": [],
   "source": [
    "from joblib import Parallel, delayed\n",
    "import platform\n",
    "\n",
    "# Use serial processing on Windows (runs slower in parallel than in serial for some reason). \n",
    "if platform.system() == 'Windows':\n",
    "    n_jobs = None\n",
    "else:\n",
    "    n_jobs = -3  # use all CPUs except 2\n",
    "\n",
    "# Use Loky Backend\n",
    "parallel = Parallel(n_jobs=n_jobs, backend='loky', verbose=1)\n",
    "\n",
    "reconstruction_times = np.arange(0, 231)"
   ]
  },
  {
   "cell_type": "code",
   "execution_count": null,
   "metadata": {},
   "outputs": [],
   "source": [
    "muller_2016_data = parallel(delayed(get_subduction_volume_rate)(muller2016_model, model2, time) for time in reconstruction_times)\n",
    "muller_2019_data = parallel(delayed(get_subduction_volume_rate)(muller2019_model, model, time) for time in reconstruction_times)"
   ]
  },
  {
   "cell_type": "code",
   "execution_count": null,
   "metadata": {},
   "outputs": [],
   "source": [
    "# unpack numpy arrays\n",
    "thk2016, len2016, vel2016, vol2016 = np.array(muller_2016_data).T\n",
    "thk2019, len2019, vel2019, vol2019 = np.array(muller_2019_data).T"
   ]
  },
  {
   "cell_type": "markdown",
   "metadata": {},
   "source": [
    "### Plot slab flux"
   ]
  },
  {
   "cell_type": "code",
   "execution_count": null,
   "metadata": {},
   "outputs": [],
   "source": [
    "# Plot this data using a Gaussian filter\n",
    "fig = plt.figure(figsize=(12,6), dpi=300)\n",
    "\n",
    "muller2016_volumes_smoothed = gaussian_filter(vol2016, sigma=1)\n",
    "muller2019_volumes_smoothed = gaussian_filter(vol2019, sigma=1)\n",
    "plt.plot(reconstruction_times, muller2016_volumes_smoothed,\n",
    "         color=\"k\", label=\"Müller et al. (2016)\")\n",
    "plt.plot(reconstruction_times, muller2019_volumes_smoothed,\n",
    "         linestyle=\"--\", alpha=0.5, color=\"k\", label=\"Müller et al. (2019)\")\n",
    "   \n",
    "# Plot settings\n",
    "plt.title(\"Total subduction volume rate per Ma\")\n",
    "plt.xlabel('Time (Ma)')\n",
    "plt.ylabel('km$^3$/yr')\n",
    "plt.legend(loc='upper center', bbox_to_anchor=(0.5, -0.1), ncol=6)"
   ]
  },
  {
   "cell_type": "code",
   "execution_count": null,
   "metadata": {},
   "outputs": [],
   "source": []
  }
 ],
 "metadata": {
  "kernelspec": {
   "display_name": "Python 3 (ipykernel)",
   "language": "python",
   "name": "python3"
  },
  "language_info": {
   "codemirror_mode": {
    "name": "ipython",
    "version": 3
   },
   "file_extension": ".py",
   "mimetype": "text/x-python",
   "name": "python",
   "nbconvert_exporter": "python",
   "pygments_lexer": "ipython3",
   "version": "3.11.11"
  },
  "vscode": {
   "interpreter": {
    "hash": "a10fed8c503fa0e7abcec38684bcaa5ab84af52f4a155e8c08912d91252721a5"
   }
  }
 },
 "nbformat": 4,
 "nbformat_minor": 4
}
