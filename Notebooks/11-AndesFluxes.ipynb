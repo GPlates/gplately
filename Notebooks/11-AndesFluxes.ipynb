{
 "cells": [
  {
   "cell_type": "markdown",
   "id": "291acaba-8528-4041-97ec-0f3a77ffebf7",
   "metadata": {},
   "source": [
    "## 11 - AndesFluxes\n",
    "This notebook demonstrates how the reconstructed subduction history along the Andean margin can be potentially used in the plate kinematics anylysis and data mining. For example, there is the potential link between the overall subduction flux and zircon age frequency. Another example is that the along-strike variations on inputs to the subduction zone could relate to porphyry copper formation.\n",
    "\n",
    "### Citation:\n",
    "Seton, M., Williams, S.E., Domeier, M. et al. Deconstructing plate tectonic reconstructions. Nat Rev Earth Environ 4, 185–204 (2023). https://doi.org/10.1038/s43017-022-00384-8"
   ]
  },
  {
   "cell_type": "code",
   "execution_count": null,
   "id": "94f37242-b64d-4436-a260-e195ccd9bcfa",
   "metadata": {},
   "outputs": [],
   "source": [
    "import sys\n",
    "import gplately\n",
    "import numpy as np\n",
    "import pygplates\n",
    "import glob, os\n",
    "import pandas as pd\n",
    "import matplotlib.pyplot as plt\n",
    "import cartopy.crs as ccrs\n",
    "from plate_model_manager import PlateModelManager\n",
    "\n",
    "anchor_plate_id = 0\n",
    "\n",
    "#south_america_plate_id = 201"
   ]
  },
  {
   "cell_type": "markdown",
   "id": "03881249-c619-4728-96f3-34caae1aab04",
   "metadata": {},
   "source": [
    "### PlateModelManager\n",
    "\n",
    "The **PlateModelManager** class can be used to download the plate reconstruction model files via Internet. The files will be fetched and saved into local folders. Users can use the member functions of PlateModel class to retrieve the local absolute path of the files. For example, the get_rotation_model() will return the local path to the rotation file(s).\n",
    "\n",
    "The **PlateReconstruction** class can be used to reconstruct tectonic plates and calculate subduction convergence stats.\n",
    "\n",
    "The **PlotTopologies** class can be used to plot reconstruction maps."
   ]
  },
  {
   "cell_type": "code",
   "execution_count": null,
   "id": "9243686d-db99-4cc3-809f-8df9bf280c36",
   "metadata": {},
   "outputs": [],
   "source": [
    "%%capture cap\n",
    "# Use PlateModelManager to download and manage files of the plate reconstruction models\n",
    "pm_manager = PlateModelManager()\n",
    "plate_model = pm_manager.get_model(\"Muller2019\", data_dir=\"plate-model-repo\")\n",
    "\n",
    "model = gplately.PlateReconstruction(plate_model.get_rotation_model(), \n",
    "                                     plate_model.get_topologies(), \n",
    "                                     plate_model.get_static_polygons(),\n",
    "                                     anchor_plate_id=anchor_plate_id)\n",
    "gplot = gplately.plot.PlotTopologies(model, \n",
    "                                     plate_model.get_layer('Coastlines'), \n",
    "                                     plate_model.get_layer('ContinentalPolygons'), \n",
    "                                     plate_model.get_layer('COBs'))"
   ]
  },
  {
   "cell_type": "markdown",
   "id": "759b4421-2683-407c-841b-a1308b412036",
   "metadata": {},
   "source": [
    "### Define the function to calculate and filter subduction zone stats for South America"
   ]
  },
  {
   "cell_type": "code",
   "execution_count": null,
   "id": "b96b34de-63b9-4c60-9d83-acda006b1cb9",
   "metadata": {},
   "outputs": [],
   "source": [
    "# We are only interested in the latitude -55 and 5 in this notebook. \n",
    "lat_samples = np.arange(-55,5,0.1)\n",
    "\n",
    "def get_south_america_subduction_zone_data(r12n_time):\n",
    "    \"\"\"we are only interesed in the South America subduction zone in this notebook\n",
    "        filter and keep the South America subduction zone data only\n",
    "    \n",
    "    # Calculate subduction convergence stats with GPlately\n",
    "    # Col. 0 - longitude of sampled trench point\n",
    "    # Col. 1 - latitude of sampled trench point\n",
    "    # Col. 2 - subducting convergence (relative to trench) velocity magnitude (in cm/yr)\n",
    "    # Col. 3 - subducting convergence velocity obliquity angle (angle between trench normal vector and convergence velocity vector)\n",
    "    # Col. 4 - trench absolute (relative to anchor plate) velocity magnitude (in cm/yr)\n",
    "    # Col. 5 - trench absolute velocity obliquity angle (angle between trench normal vector and trench absolute velocity vector)\n",
    "    # Col. 6 - length of arc segment (in degrees) that current point is on\n",
    "    # Col. 7 - trench normal azimuth angle (clockwise starting at North, ie, 0 to 360 degrees) at current point\n",
    "    # Col. 8 - subducting plate ID\n",
    "    # Col. 9 - trench plate ID\n",
    "    \"\"\"\n",
    "    subduction_data = model.tessellate_subduction_zones(r12n_time, \n",
    "                                                        tessellation_threshold_radians=0.01, \n",
    "                                                        anchor_plate_id=anchor_plate_id)\n",
    "      \n",
    "    ret=[]\n",
    "    for row in subduction_data:\n",
    "        # only keep the data for South America subduction zone\n",
    "        if row[8] in [902,908,919,904,911,985,224,802] and (row[9]==201 or row[9]>200000): # code copied from Simon's original notebook\n",
    "            ret.append(row)\n",
    "    ret.sort(key=lambda row: row[1])\n",
    "    ret_df = pd.DataFrame(ret, columns=['lon', 'lat', 'conv_rate', 'conv_angle', 'trench_velocity', 'trench_velocity_angle', 'arc_length',\n",
    "                                     'trench_azimuth_angle', 'subducting_pid', 'trench_pid'])\n",
    "    return ret_df[(ret_df.lat>lat_samples.min()) & (ret_df.lat<lat_samples.max())]\n"
   ]
  },
  {
   "cell_type": "markdown",
   "id": "0da645bc-4104-4a75-b510-a61356f60b76",
   "metadata": {},
   "source": [
    "### Plot the South America subduction zone sample points\n",
    "In the cell below, we are going to plot the South America subduction zone sample points in a map. The sample points are coloured by the values of \"subducting convergence (relative to trench) velocity magnitude (in cm/yr)\""
   ]
  },
  {
   "cell_type": "code",
   "execution_count": null,
   "id": "633fa687-da23-41a5-a1ab-836a44feffbd",
   "metadata": {},
   "outputs": [],
   "source": [
    "\n",
    "reconstruction_time = 100\n",
    "# firstly, we get the data by calling the function defined in the above cell\n",
    "south_america_subduction_data = get_south_america_subduction_zone_data(reconstruction_time)\n",
    "\n",
    "fig = plt.figure(figsize=(10,6), dpi=100)\n",
    "ax = fig.add_subplot(111, projection=ccrs.Mollweide(central_longitude = 0))\n",
    "\n",
    "gl=ax.gridlines(color='0.7',linestyle='--', xlocs=np.arange(-180,180,15), ylocs=np.arange(-90,90,15))\n",
    "gl.left_labels = True\n",
    "\n",
    "plt.title(f'{reconstruction_time} Ma')\n",
    "# you may change the extent to global to see the sample points in a world map.\n",
    "#ax.set_global()\n",
    "ax.set_extent([-80,0,-70,0])\n",
    "\n",
    "gplot.time = reconstruction_time\n",
    "gplot.plot_coastlines(ax, color='grey')\n",
    "\n",
    "# Latitudes and longitudes of points along trench segments\n",
    "subduction_lon = south_america_subduction_data.lon\n",
    "subduction_lat = south_america_subduction_data.lat\n",
    "\n",
    "conv_rate = south_america_subduction_data.conv_rate # subducting convergence (relative to trench) velocity magnitude (in cm/yr)\n",
    "cb=ax.scatter(subduction_lon,subduction_lat, marker=\".\", s=5, c=conv_rate, transform=ccrs.PlateCarree(), cmap=\"inferno_r\")\n",
    "\n",
    "cbar = plt.colorbar(cb)\n",
    "cbar.ax.get_yaxis().labelpad = 15\n",
    "cbar.ax.set_ylabel('Convergence Velocity Magnitude (in cm/yr)', rotation=90)\n",
    "plt.show()"
   ]
  },
  {
   "cell_type": "markdown",
   "id": "385f7418-95bb-45e1-93bd-11ab236fcf2f",
   "metadata": {},
   "source": [
    "The get_extent_from_data() function is just a helper function to get the region of interest from the input data. It will return a much smaller area of the map which matters in this notebook. Then, we use the smaller area to do the \"raster query\". It will improve the performance dramatically."
   ]
  },
  {
   "cell_type": "code",
   "execution_count": null,
   "id": "2c3e5344-65f6-4846-abb3-6ff24719e886",
   "metadata": {},
   "outputs": [],
   "source": [
    "def get_extent_from_data(data, extent_buffer=2):\n",
    "    x0 = data.lon.min()-extent_buffer\n",
    "    if x0<-180: x0=360+x0\n",
    "    x1 = data.lon.max()+extent_buffer\n",
    "    if x1>180: x1=x1-360\n",
    "    y0 = data.lat.min()-extent_buffer\n",
    "    if y0<-90: y0=180+y0\n",
    "    y1 = data.lat.max()+extent_buffer\n",
    "    if y1>90: y1=y1-360\n",
    "    return [x0,x1,y0,y1]"
   ]
  },
  {
   "cell_type": "markdown",
   "id": "c8e186d5-faba-4f3e-88a3-37824ade1694",
   "metadata": {},
   "source": [
    "### Calculate the South America subduction zone stats\n",
    "We are going to calculate a few things in the code cell below.\n",
    "* Subduction area flux\n",
    "* Subduction volume flux\n",
    "* Trench-Orthogonal convergence rate\n",
    "* Seafloor age\n",
    "* Thickness of subducting carbonate sediment\n",
    "\n",
    "**Note: this code cell will take a while to run and will download a number of files from Internet.**"
   ]
  },
  {
   "cell_type": "code",
   "execution_count": null,
   "id": "04375085-3ae4-4911-9ef8-4446a8978855",
   "metadata": {},
   "outputs": [],
   "source": [
    "# We are only interested in the reconstruction time from 120Ma to 0Ma\n",
    "time_series = np.arange(0,121,1)\n",
    "\n",
    "area_flux_series=[]\n",
    "volume_flux_series=[]\n",
    "age_array = []\n",
    "conv_array = []\n",
    "carbonate_array = []\n",
    "for time in time_series:\n",
    "    sa_sub_data = get_south_america_subduction_zone_data(time)\n",
    "    conv_rate = sa_sub_data.conv_rate # subducting convergence (relative to trench) velocity magnitude (in cm/yr)\n",
    "    conv_obliq = sa_sub_data.conv_angle # subducting convergence velocity obliquity angle (angle between trench normal vector and convergence velocity vector)\n",
    "    arc_length = sa_sub_data.arc_length # length of arc segment (in degrees) that current point is on\n",
    "    # Latitudes and longitudes of points along trench segments\n",
    "    subduction_lon = sa_sub_data.lon\n",
    "    subduction_lat = sa_sub_data.lat\n",
    "\n",
    "    ortho_conv_rate = conv_rate*np.abs(np.cos(np.radians(conv_obliq)))\n",
    "    area_flux = ortho_conv_rate * 100. * arc_length * 2 * np.pi * 6371000. / 360. # formula copied from Simon's Notebook\n",
    "\n",
    "    #\n",
    "    # Query age grid rasters\n",
    "    #\n",
    "    age_grid_raster = gplately.Raster(\n",
    "        data=plate_model.get_raster(\"AgeGrids\",time),\n",
    "        plate_reconstruction=model,\n",
    "        extent=[-180, 180, -90, 90],\n",
    "    )\n",
    "    age_grid_raster=age_grid_raster.clip_by_extent(get_extent_from_data(sa_sub_data))\n",
    "    ages = age_grid_raster.query(subduction_lon, subduction_lat,region_of_interest=200)\n",
    "\n",
    "    #\n",
    "    # Query carbonate sediment thickness rasters\n",
    "    #\n",
    "    carbonate_thickness_raster = gplately.Raster(\n",
    "        data=plate_model.get_raster(\"SedimentThickness\",time),\n",
    "        plate_reconstruction=model,\n",
    "        extent=[-180, 180, -90, 90],\n",
    "    )\n",
    "    carbonate_thickness_raster=carbonate_thickness_raster.clip_by_extent(get_extent_from_data(sa_sub_data))\n",
    "    carbonate_thickness = carbonate_thickness_raster.query(subduction_lon, subduction_lat,region_of_interest=200)\n",
    "    \n",
    "    #\n",
    "    # we have two methods to get the volume flux\n",
    "    #\n",
    "    # method 1: use gplately.tools.plate_isotherm_depth\n",
    "    # plate_depth = [gplately.tools.plate_isotherm_depth(seafloor_age) for seafloor_age in ages]\n",
    "    # volume_flux = area_flux * plate_depth \n",
    "    \n",
    "    # method 2: use Simon's formula\n",
    "    volume_flux = area_flux * np.sqrt(ages) * 10.  # UNITS????\n",
    "\n",
    "    area_flux_series.append(area_flux.sum())\n",
    "    volume_flux_series.append(np.nansum(volume_flux))\n",
    "\n",
    "    conv_array.append(np.interp(lat_samples, subduction_lat, ortho_conv_rate, left=np.nan, right=np.nan))\n",
    "    age_array.append(np.interp(lat_samples, subduction_lat, ages, left=np.nan, right=np.nan))\n",
    "    carbonate_array.append(np.interp(lat_samples, subduction_lat, carbonate_thickness, left=np.nan, right=np.nan))\n",
    "    \n",
    "    gplately.tools.update_progress(time/time_series.size)  \n",
    "gplately.tools.update_progress(1)   "
   ]
  },
  {
   "cell_type": "markdown",
   "id": "f7adeaee-e325-4a95-97fe-8b49d4a7f3ba",
   "metadata": {},
   "source": [
    "### plot the area flux and volume flux"
   ]
  },
  {
   "cell_type": "code",
   "execution_count": null,
   "id": "71c862f4-bc9f-4956-b13c-ae94d9da3e19",
   "metadata": {},
   "outputs": [],
   "source": [
    "from scipy.ndimage import uniform_filter1d\n",
    "\n",
    "fig = plt.figure(figsize=(8,4), dpi=100)\n",
    "ax = fig.add_subplot(111)\n",
    "\n",
    "N=3\n",
    "ax.plot(time_series, uniform_filter1d(area_flux_series, size=N), 'b', label='area flux')\n",
    "ax.set_xlim(100,0)\n",
    "ax.set_ylim(1e9,11e9)\n",
    "ax.grid(axis='x', linestyle=':')\n",
    "#ax.set_xticklabels([])\n",
    "ax.set_ylabel('Area Flux', fontsize=14, color='b')\n",
    "ax.tick_params(axis='y', labelcolor='b')\n",
    "\n",
    "ax1 = ax.twinx() \n",
    "ax1.plot(time_series, uniform_filter1d(np.array(volume_flux_series), size=N), 'r', label='volume flux')\n",
    "ax.set_xlabel('Reconstruction Time [Ma]', fontsize=14)\n",
    "ax1.set_ylabel('Volume Flux', fontsize=14, color='r')\n",
    "ax1.set_ylim(0e11,7e11)\n",
    "ax1.tick_params(axis='y', labelcolor='r')\n",
    "#ax.legend()\n",
    "ax.set_title('Reconstructed Subduction Flux', fontsize=16)\n",
    "plt.show()"
   ]
  },
  {
   "cell_type": "markdown",
   "id": "1dadd22e-baaa-4a1c-a431-747b8cbcca97",
   "metadata": {},
   "source": [
    "### Plot the Trench-Orthogonal convergence rate"
   ]
  },
  {
   "cell_type": "code",
   "execution_count": null,
   "id": "026951f3-7055-432f-821b-8ada9ff10ee3",
   "metadata": {},
   "outputs": [],
   "source": [
    "fig = plt.figure(figsize=(8,4), dpi=100)\n",
    "ax = fig.add_subplot(111)\n",
    "\n",
    "m = ax.pcolormesh(time_series, \n",
    "               lat_samples, \n",
    "               np.array(conv_array).T, \n",
    "               vmin=0, vmax=15, cmap='Oranges')\n",
    "\n",
    "fig.colorbar(m, orientation=\"vertical\", extend='max', shrink=0.9, pad=0.03, label='Convergence Rate [cm/yr]')\n",
    "\n",
    "ax.set_xlim(100,0)\n",
    "ax.set_ylim(-50,5)\n",
    "ax.set_xlabel('Reconstruction Time [Ma]', fontsize=14)\n",
    "ax.set_ylabel('Latitude', fontsize=14)\n",
    "ax.set_title('Trench-Orthogonal Convergence Rate', fontsize=16)\n",
    "plt.show()\n"
   ]
  },
  {
   "cell_type": "markdown",
   "id": "055855ed-ab90-4528-9fef-7dcf21038a22",
   "metadata": {},
   "source": [
    "### Plot subducting seafloor age "
   ]
  },
  {
   "cell_type": "code",
   "execution_count": null,
   "id": "b47c386b-f5f3-43cf-b1bf-272498a9cc00",
   "metadata": {},
   "outputs": [],
   "source": [
    "fig = plt.figure(figsize=(8,4), dpi=100)\n",
    "ax = fig.add_subplot(111)\n",
    "\n",
    "m = ax.contourf(time_series, \n",
    "               lat_samples, \n",
    "               np.array(age_array).T, \n",
    "               levels=np.arange(0,101,5), cmap='plasma_r', extend='max')\n",
    "\n",
    "fig.colorbar(m, orientation=\"vertical\", extend='max', shrink=0.9, pad=0.03, label='Seafloor Age [Myr]')\n",
    "\n",
    "ax.set_xlim(100,0)\n",
    "ax.set_ylim(-50,5)\n",
    "ax.set_xlabel('Reconstruction Time [Ma]', fontsize=14)\n",
    "ax.set_ylabel('Latitude', fontsize=14)\n",
    "ax.set_title('Subducting Seafloor Age', fontsize=16)\n",
    "plt.show()"
   ]
  },
  {
   "cell_type": "markdown",
   "id": "55e57705-277a-4364-b966-de0c4346fa47",
   "metadata": {},
   "source": [
    "### Plot subducting carbonate sediment thickness"
   ]
  },
  {
   "cell_type": "code",
   "execution_count": null,
   "id": "1d9c9008-8104-4827-b9ff-1bf49ce4bec3",
   "metadata": {},
   "outputs": [],
   "source": [
    "fig = plt.figure(figsize=(8,4), dpi=100)\n",
    "ax = fig.add_subplot(111)\n",
    "\n",
    "m = ax.contourf(time_series, \n",
    "               lat_samples, \n",
    "               np.array(carbonate_array).T, \n",
    "               levels=[0,25,50,75,100,125,150], vmax=150, cmap='GnBu', extend='max')\n",
    "\n",
    "fig.colorbar(m, orientation=\"vertical\", extend='max', shrink=0.9, pad=0.03, label='Carbonate Sediment Thickness [meter]')\n",
    "\n",
    "ax.set_xlim(100,0)\n",
    "ax.set_ylim(-50,5)\n",
    "ax.set_xlabel('Reconstruction Time [Ma]', fontsize=14)\n",
    "ax.set_ylabel('Latitude', fontsize=14)\n",
    "ax.set_title('Thickness of Subducting Carbonate Sediment', fontsize=16)\n",
    "plt.show()"
   ]
  },
  {
   "cell_type": "code",
   "execution_count": null,
   "id": "ff675873-40fc-4b83-92b1-5cdb76a55b14",
   "metadata": {},
   "outputs": [],
   "source": []
  }
 ],
 "metadata": {
  "kernelspec": {
   "display_name": "Python 3 (ipykernel)",
   "language": "python",
   "name": "python3"
  },
  "language_info": {
   "codemirror_mode": {
    "name": "ipython",
    "version": 3
   },
   "file_extension": ".py",
   "mimetype": "text/x-python",
   "name": "python",
   "nbconvert_exporter": "python",
   "pygments_lexer": "ipython3",
   "version": "3.11.11"
  }
 },
 "nbformat": 4,
 "nbformat_minor": 5
}
