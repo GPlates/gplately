{
 "cells": [
  {
   "cell_type": "markdown",
   "id": "6a6c21c7",
   "metadata": {},
   "source": [
    "## 10 - Seafloor Grids\n",
    "\n",
    "An adaptation of [agegrid-01](https://github.com/siwill22/agegrid-0.1) written by Simon Williams, Nicky Wright and John Cannon for gridding general z-values onto seafloor basin points using GPlately.\n",
    "\n",
    "### Citation:\n",
    "Simon Williams, Nicky M. Wright, John Cannon, Nicolas Flament, R. Dietmar Müller, Reconstructing seafloor age distributions in lost ocean basins, Geoscience Frontiers, Volume 12, Issue 2, 2021, Pages 769-780, ISSN 1674-9871,\n",
    "https://doi.org/10.1016/j.gsf.2020.06.004."
   ]
  },
  {
   "cell_type": "code",
   "execution_count": null,
   "id": "db118eb4",
   "metadata": {},
   "outputs": [],
   "source": [
    "import gplately\n",
    "\n",
    "import pygplates\n",
    "import glob, os\n",
    "import matplotlib.pyplot as plt\n",
    "import cartopy.crs as ccrs\n",
    "from plate_model_manager import PlateModelManager"
   ]
  },
  {
   "cell_type": "markdown",
   "id": "9a4bddee",
   "metadata": {},
   "source": [
    "### Define a rotation model, topology features and continents for the `PlateReconstruction` model\n",
    "There are two ways to do this. To use local files, pass `use_local_files = True`. To use gplately's `PlateModelManager`, use `use_local_files = False`."
   ]
  },
  {
   "cell_type": "code",
   "execution_count": null,
   "id": "b571bf94",
   "metadata": {},
   "outputs": [],
   "source": [
    "use_local_files = False"
   ]
  },
  {
   "cell_type": "markdown",
   "id": "4936baad",
   "metadata": {},
   "source": [
    "#### 1) Manually pointing to files"
   ]
  },
  {
   "cell_type": "code",
   "execution_count": null,
   "id": "e5319664",
   "metadata": {},
   "outputs": [],
   "source": [
    "if use_local_files:\n",
    "    # Method 1: manually point to files\n",
    "    input_directory = \"/Users/laurenilano/Downloads/SM2-Merdith_et_al_1_Ga_reconstruction_v1.1\"\n",
    "    rotation_filenames = glob.glob(os.path.join(input_directory, '*.rot'))\n",
    "    rotation_model = pygplates.RotationModel(rotation_filenames)\n",
    "\n",
    "    static_polygons = input_directory+\"/shapes_static_polygons_Merdith_et_al.gpml\"\n",
    "\n",
    "    topology_filenames = [\n",
    "        input_directory+\"/250-0_plate_boundaries_Merdith_et_al.gpml\",\n",
    "        input_directory+\"/410-250_plate_boundaries_Merdith_et_al.gpml\",\n",
    "        input_directory+\"/1000-410-Convergence_Merdith_et_al.gpml\",\n",
    "        input_directory+\"/1000-410-Divergence_Merdith_et_al.gpml\",\n",
    "        input_directory+\"/1000-410-Topologies_Merdith_et_al.gpml\",\n",
    "        input_directory+\"/1000-410-Transforms_Merdith_et_al.gpml\"\n",
    "        ]\n",
    "    topology_features = pygplates.FeatureCollection()\n",
    "    for topology_filename in topology_filenames:\n",
    "        topology_features.add( pygplates.FeatureCollection(topology_filename) )\n",
    "            \n",
    "\n",
    "    continents = input_directory+\"/shapes_continents_Merdith_et_al.gpml\""
   ]
  },
  {
   "cell_type": "markdown",
   "id": "1519da7c",
   "metadata": {},
   "source": [
    "#### 2) Using GPlately's `PlateModelManager`"
   ]
  },
  {
   "cell_type": "code",
   "execution_count": null,
   "id": "3ebf9727",
   "metadata": {},
   "outputs": [],
   "source": [
    "if not use_local_files:\n",
    "    # Method 2: GPlately's PlateModelManager\n",
    "    pm_manager = PlateModelManager()\n",
    "    plate_model = pm_manager.get_model(\"Merdith2021\", data_dir=\"plate-model-repo\")\n",
    "    \n",
    "    rotation_model = plate_model.get_rotation_model()\n",
    "    topology_features = plate_model.get_topologies()\n",
    "    static_polygons = plate_model.get_static_polygons()\n",
    "    \n",
    "    coastlines = plate_model.get_layer('Coastlines')\n",
    "    continents = plate_model.get_layer('ContinentalPolygons')\n",
    "    COBs =  None\n",
    "    "
   ]
  },
  {
   "cell_type": "markdown",
   "id": "3560443e",
   "metadata": {},
   "source": [
    "## The SeafloorGrid object\n",
    "...is a collection of methods to generate seafloor grids.\n",
    "\n",
    "The critical input parameters are:\n",
    "\n",
    "### Plate model parameters\n",
    "* **`PlateReconstruction_object`**: The gplately `PlateReconstruction` object defined in the cell below. This object is a collection of methods for calculating plate tectonic stats through geological time.\n",
    "* **`PlotTopologies_object`**: The gplately `PlotTopologies` object defined in the cell below. This object is a collection of methods for resolving geological features needed for gridding to a certain geological time.\n",
    "\n",
    "#### Define the `PlateReconstruction` and `PlotTopologies` objects\n",
    "...using the outputs of Method 1 OR Method 2."
   ]
  },
  {
   "cell_type": "code",
   "execution_count": null,
   "id": "12bec53e",
   "metadata": {},
   "outputs": [],
   "source": [
    "model = gplately.PlateReconstruction(rotation_model, topology_features, static_polygons)\n",
    "\n",
    "gplot = gplately.PlotTopologies(model, continents=continents)"
   ]
  },
  {
   "cell_type": "markdown",
   "id": "57d6e8b2",
   "metadata": {},
   "source": [
    "### Time parameters\n",
    "* **`max_time`**: The first time step to start generating age grids. This is the time step where we define certain **gridding initial conditions**, which will be explained below.\n",
    "* **`min_time`**: The final step to generate age grids. This is the time when recursive reconstructions starting from `max_time` stop.\n"
   ]
  },
  {
   "cell_type": "code",
   "execution_count": null,
   "id": "17add2d7",
   "metadata": {},
   "outputs": [],
   "source": [
    "max_time = 410.\n",
    "min_time = 400."
   ]
  },
  {
   "cell_type": "markdown",
   "id": "703d2315",
   "metadata": {},
   "source": [
    "### Ridge resolution parameters\n",
    "With each reconstruction time step, mid-ocean ridge segments emerge and spread across the ocean floor. In `gplately`, these ridges are lines, or a tessellation of infinitesimal points. The spatio-temporal resolution of these ridge points can be controlled by two parameters:\n",
    "* **`ridge_time_step`**: The \"delta time\" or time increment between successive resolutions of ridges, and hence successive grids. By default this is 1Myr, so grids are produced every millionth year.\n",
    "* **`ridge_sampling`**: This controls the geographical resolution (in degrees) with which ridge lines are partitioned into points. The larger this is, the larger the spacing between successive ridge points, and hence the smaller the number of ridge points at each timestep. By default this is 0.5 degrees, so points are spaced 0.5 degrees apart. "
   ]
  },
  {
   "cell_type": "code",
   "execution_count": null,
   "id": "b959a7b4",
   "metadata": {},
   "outputs": [],
   "source": [
    "ridge_time_step = 1.\n",
    "ridge_sampling = 0.5"
   ]
  },
  {
   "cell_type": "markdown",
   "id": "c1c20f7d",
   "metadata": {},
   "source": [
    "***\n",
    "### Grid resolution parameters\n",
    "The ridge resolution parameters mentioned above take care of the spatio-temporal positioning of ridge features/points. However, these ridge points need to be interpolated onto regular grids - separate parameters are needed for these grids. \n",
    "\n",
    "#### For the `max_time` initial condition\n",
    "At `max_time`, i.e. 410Ma, the `PlateReconstruction` model has not been initialised at 411Ma and any time(s) before that to sculpt the geological history before `max_time`. In terms of the workflow, all geological history before `max_time` is unknown. Thus, the global seafloor point distriubtion, and each point's spreading rate and age must be manually defined. \n",
    "\n",
    "The initial point distribution is an icosahedral point mesh, made using [`stripy`](https://github.com/underworldcode/stripy/tree/294354c00dd72e085a018e69c345d9353c6fafef). This same mesh is used to create a **continental mask** per timestep, which is a binary grid that partitions continental regions from oceanic regions. Continental masks are used to determine which ocean points have collided/subducted into continental crust per timestep (these points are deleted from the seafloor grid at that timestep).\n",
    "\n",
    "* **`refinement_levels`**: A unitless integer that controls the number of points in:\n",
    "    * the `max_time` icosahedral point mesh, and\n",
    "    * all continent masks.\n",
    "    \n",
    "    5 is the default. Any higher will result in a finer mesh.\n",
    "    \n",
    "    \n",
    "* **`initial_ocean_mean_spreading_rate`** (in units of mm/yr or km/myr): Since the geological history before and at `max_time` is unknown, we will need to manually define the spreading rates and ages of all ocean points. This is manually set to a uniform spreading rate of 75 (mm/yr or km/myr). Each point's age is equal to its proximity to the nearest mid ocean ridge (assuming that ridge is the source of the point) divided by half this uniform spreading rate (half to account for spreading to the left and right of a ridge). \n",
    "\n",
    "#### For the interpolated regular grids\n",
    "The regular grid on which all data is interpolated has a resolution that can be controlled by:\n",
    "\n",
    "* **`grid_spacing`**: The degree spacing between successive nodes in the grid. By default, this is 0.1 degrees. **Acceptable degree spacings are 0.1, 0.25, 0.5, 0.75, or 1 degree(s)** because these allow cleanly divisible grid nodes across global latitude and longitude extents. Anything greater than 1 will be rounded to 1, and anything between these acceptable spacings will be rounded to the nearest acceptable spacing. \n"
   ]
  },
  {
   "cell_type": "code",
   "execution_count": null,
   "id": "5ec00f36",
   "metadata": {},
   "outputs": [],
   "source": [
    "refinement_levels = 6\n",
    "initial_ocean_mean_spreading_rate = 50.\n",
    "\n",
    "# Gridding parameter\n",
    "grid_spacing = 0.25\n",
    "\n",
    "extent=[-180,180,-90,90]"
   ]
  },
  {
   "cell_type": "markdown",
   "id": "8464bfb4",
   "metadata": {},
   "source": [
    "***\n",
    "### File saving and naming parameters\n",
    "When grids are produced, they are saved to:\n",
    "* **`save_directory`**: A string to a directory that must exist already.\n",
    "\n",
    "These files are named according to:\n",
    "* **`file_collection`**: A string used to help with naming all output files. \n",
    "***"
   ]
  },
  {
   "cell_type": "code",
   "execution_count": null,
   "id": "106b61f5",
   "metadata": {},
   "outputs": [],
   "source": [
    "# continent masks, initial ocean seed points, and gridding input files are kept here\n",
    "output_parent_directory = os.path.join(\n",
    "    \"NotebookFiles\",\n",
    "    \"Notebook10\",\n",
    ")\n",
    "save_directory = os.path.join(\n",
    "    output_parent_directory,\n",
    "    \"seafloor_grid_output\",\n",
    ")\n",
    "\n",
    "# A string to help name files according to a plate model \"Merdith2021\"\n",
    "file_collection = \"Merdith2021\"\n"
   ]
  },
  {
   "cell_type": "markdown",
   "id": "a328fa6d",
   "metadata": {},
   "source": [
    "***\n",
    "### Subduction parameters\n",
    "One of the ways an oceanic point can be deleted from the ocean basin at a certain timestep is if it is approaching a plate boundary such that a **velocity and displacement test** is passed:\n",
    "\n",
    "#### Velocity test\n",
    "First, given the trajectory of a point at the next time step, a point will cross a subducting plate boundary (and thus will be deleted) if the difference between its velocity on its current plate AND the velocity it will have on the other plate is greater than this velocity difference is higher than a specified **threshold delta velocity in kms/Myr**. \n",
    "\n",
    "#### Displacement test\n",
    "If the proximity of the point's previous time position to the plate boundary it is approaching is higher than a set distance threshold (**threshold distance to boundary per Myr in kms/Myr**), then the point is far enough away from the boundary that it cannot be subducted or consumed by it, and \n",
    "hence the point is still active.\n",
    "\n",
    "The parameter needed to encapsulate these thresholds is:\n",
    "* **`subduction_collision_parameters`**: This a tuple with two elements, by default (5.0, 10.0), for the (threshold velocity delta in kms/my, threshold distance to boundary per My in kms/my)\n",
    "***"
   ]
  },
  {
   "cell_type": "code",
   "execution_count": null,
   "id": "68450bf6",
   "metadata": {},
   "outputs": [],
   "source": [
    "subduction_collision_parameters=(5.0, 10.0)"
   ]
  },
  {
   "cell_type": "markdown",
   "id": "bd978b09",
   "metadata": {},
   "source": [
    "***\n",
    "### Methodology parameters\n",
    "* **`resume_from_checkpoints`**: Gridding can take a couple of hours - if this is set to `True` and the routine is interrupted, rerunning the gridding cell will resume from where it left off, provided all files that have been saved before interruption have not been erased.\n",
    "* **`zval_names`**: A list of strings to label the z-values we are gridding. By default, this is `['SPREADING_RATE']`, because one z-value we are gridding is the spreading rate of all ocean points. \n",
    "***"
   ]
  },
  {
   "cell_type": "code",
   "execution_count": null,
   "id": "b1a6fbee",
   "metadata": {},
   "outputs": [],
   "source": [
    "# Methodology parameters\n",
    "resume_from_checkpoints = False,\n",
    "zval_names = ['SPREADING_RATE']"
   ]
  },
  {
   "cell_type": "markdown",
   "id": "5038c7e6",
   "metadata": {},
   "source": [
    "Use all parameters to define `SeafloorGrid`:"
   ]
  },
  {
   "cell_type": "code",
   "execution_count": null,
   "id": "ed5fc9e9",
   "metadata": {},
   "outputs": [],
   "source": [
    "# The SeafloorGrid object with all aforementioned parameters\n",
    "seafloorgrid = gplately.SeafloorGrid(\n",
    "    \n",
    "    PlateReconstruction_object = model, \n",
    "    PlotTopologies_object = gplot, \n",
    "    \n",
    "    # Time parameters\n",
    "    max_time = max_time,\n",
    "    min_time = min_time,\n",
    "    \n",
    "    # Ridge tessellation parameters\n",
    "    ridge_time_step = ridge_time_step,\n",
    "    ridge_sampling = ridge_sampling,\n",
    "    \n",
    "    # Gridding parameters\n",
    "    grid_spacing = grid_spacing,\n",
    "\n",
    "    extent = extent,\n",
    "    \n",
    "    # Naming parameters\n",
    "    save_directory = save_directory,\n",
    "    file_collection = file_collection,\n",
    "    \n",
    "    # Initial condition parameters\n",
    "    refinement_levels = refinement_levels,\n",
    "    initial_ocean_mean_spreading_rate = initial_ocean_mean_spreading_rate,\n",
    "    \n",
    "    # Subduction parameters\n",
    "    subduction_collision_parameters = subduction_collision_parameters,\n",
    "    \n",
    "    # Methodology parameters\n",
    "    resume_from_checkpoints = resume_from_checkpoints,\n",
    "    zval_names = zval_names\n",
    ")"
   ]
  },
  {
   "cell_type": "markdown",
   "id": "ab3cbf87",
   "metadata": {},
   "source": [
    "## How to use `SeafloorGrid`\n",
    "\n",
    "### 1) Run `seafloorgrid.reconstruct_by_topologies()`\n",
    "Running `seafloorgrid.reconstruct_by_topologies()` prepares all ocean basin points and their z-values for gridding, and reconstructs all active points per timestep to form the grids per timestep.\n",
    "\n",
    "##### Initial conditions\n",
    "At `max_time`, an initial ocean seed point icosahedral mesh fills the ocean basin. Each point is allocated a z-value, and this is stored in an .npz data frame at `max_time`. A netCDF4 continent mask is also produced at `max_time`. \n",
    "\n",
    "Below is an example of the initial condition: the ocean basin is populated with an `intial_mean_ocean_spreading_rate` of 50 mm/yr at a `max_time` of 410Ma. Reconstruction over 10Myr to 400Ma sees the points emerging from ridges with their own plate-model-ascribed spreading rates.\n",
    "\n",
    "![init_condition](./NotebookFiles/Notebook9/Merdith2021_initial_sr_conditions.png)\n",
    "\n",
    "\n",
    "#### Preparing for gridding\n",
    "At each successive timestep (`ridge_time_step`), new points emerge from spreading ridges, and they are allocated their own z-values. The workflow recursively outputs:\n",
    "\n",
    "* 1 netCDF4 continent mask\n",
    "* 1 GPMLZ file with point features emerging at spreading ridges (resolved according to the specified `ridge_sampling`)\n",
    "* 1 .npz data frame for point feature z-values\n",
    "\n",
    "for each time up to `min_time`. *If the `resume_from_checkpoints` parameter is passed as `True`, and this preparation stage in `seafloorgrid.reconstruct_by_topologies()` is interrupted between `max_time` to `min_time`, you can rerun the cell. The workflow will pick up from where it left off provided all files that have been saved before interruption have not been erased.*\n",
    "\n",
    "To overwrite all files in `save_directory` (restart the preparation at `max_time`), pass `resume_from_checkpoints` as `False`. This happens by default.\n",
    "\n",
    "#### Reconstruct by topologies\n",
    "Once gridding preparation is complete, the `ReconstructByTopologies` object (written by Simon Williams, Nicky Wright, and John Cannon) in GPlately's `reconstruct` is automatically run. `ReconstructByTopologies` (RBT) identifies active points on the ocean basin per timestep. It works as follows:\n",
    "\n",
    "If an ocean point on one plate ID transitions into another rigid plate ID at the next timestep, RBT calculates the point's velocity difference between both plates. The point **may** have subducted/collided with a continent at this boundary if this velocity difference is higher than a set velocity threshold. To ascertain whether the point should indeed be deactivated, a second test is conducted: RBT checks the previous time position of the point and calculates this point’s proximity to the boundary of the plate ID polygon it is approaching. If this distance is higher than a set distance threshold, then the point is far enough away from the boundary that it cannot be subducted or consumed by it and hence the point is still active. Else, it is deactivated/deleted.\n",
    "\n",
    "Once all active points and their z-values are identified, they are written to the gridding input file (.npz) for that timestep."
   ]
  },
  {
   "cell_type": "code",
   "execution_count": null,
   "id": "143ea077",
   "metadata": {},
   "outputs": [],
   "source": [
    "import datetime\n",
    "import time\n",
    "\n",
    "\n",
    "start = time.time()\n",
    "seafloorgrid.reconstruct_by_topologies()\n",
    "end = time.time()\n",
    "duration = datetime.timedelta(seconds=end - start)\n",
    "print(\"Duration: {}\".format(duration))"
   ]
  },
  {
   "cell_type": "markdown",
   "id": "a0a0ca60",
   "metadata": {},
   "source": [
    "### 2) Run `seafloorgrid.lat_lon_z_to_netCDF`  to write grids to netCDF\n",
    "Calling `seafloorgrid.lat_lon_z_to_netCDF` grids one set of z-data per latitude-longitude pair from each timestep's gridding input file (produced in `seafloorgrid.reconstruct_by_topologies()`). Grids are in netCDF format.\n",
    "\n",
    "The desired z-data to grid is identified using a `zval_name`. \n",
    "For example, seafloor age grids can be produced using `SEAFLOOR_AGE`, and spreading rate grids are `SPREADING_RATE`. \n",
    "\n",
    "Use `unmasked = True` to output both the masked and unmasked versions of the grids."
   ]
  },
  {
   "cell_type": "code",
   "execution_count": null,
   "id": "891183f3",
   "metadata": {},
   "outputs": [],
   "source": [
    "seafloorgrid.lat_lon_z_to_netCDF(\"SEAFLOOR_AGE\", unmasked=True)"
   ]
  },
  {
   "cell_type": "code",
   "execution_count": null,
   "id": "d51a41a5",
   "metadata": {},
   "outputs": [],
   "source": [
    "seafloorgrid.lat_lon_z_to_netCDF(\"SPREADING_RATE\", unmasked=True)"
   ]
  },
  {
   "cell_type": "markdown",
   "id": "8213b46a",
   "metadata": {},
   "source": [
    "### Plotting a sample age grid and spreading rate grid\n",
    "Read one netCDF grid using GPlately's `Raster` object from `grids`, and plot it using the `PlotTopologies` object.\n",
    "\n",
    "Notice the evolution of seafloor spreading rate from the initial value set with `initial_ocean_mean_spreading_rate`. Eventually, this initial uniform spreading rate will be phased out with sufficient recursive reconstruction."
   ]
  },
  {
   "cell_type": "code",
   "execution_count": null,
   "id": "56e03e39",
   "metadata": {},
   "outputs": [],
   "source": [
    "time = min_time\n",
    "\n",
    "# Process age grids\n",
    "agegrid_filename = \"{}/SEAFLOOR_AGE/{}_SEAFLOOR_AGE_grid_{:0.2f}Ma.nc\".format(seafloorgrid.save_directory, seafloorgrid.file_collection, time)\n",
    "age_grid = gplately.grids.Raster(agegrid_filename)\n",
    "agegrid_unmasked_filename = \"{}/SEAFLOOR_AGE/{}_SEAFLOOR_AGE_grid_unmasked_{:0.2f}Ma.nc\".format(seafloorgrid.save_directory, seafloorgrid.file_collection, time)\n",
    "unmasked_age_grid = gplately.grids.Raster(agegrid_unmasked_filename)\n",
    "\n",
    "# Process spreading rate grids\n",
    "srgrid_filename = \"{}/SPREADING_RATE/{}_SPREADING_RATE_grid_{:0.2f}Ma.nc\".format(seafloorgrid.save_directory, seafloorgrid.file_collection, time)\n",
    "sr_grid = gplately.grids.Raster(srgrid_filename)\n",
    "srgrid_unmasked_filename = \"{}/SPREADING_RATE/{}_SPREADING_RATE_grid_unmasked_{:0.2f}Ma.nc\".format(seafloorgrid.save_directory, seafloorgrid.file_collection, time)\n",
    "unmasked_sr_grid = gplately.grids.Raster(srgrid_unmasked_filename)\n",
    "\n",
    "\n",
    "# Prepare plots\n",
    "fig = plt.figure(figsize=(18,10), dpi=300, linewidth=2)\n",
    "plt.subplots_adjust(wspace=.05, hspace=0) # spacing between subplots \n",
    "\n",
    "# Masked agegrid\n",
    "ax = fig.add_subplot(221, projection=ccrs.Mollweide(central_longitude=20))\n",
    "gplot.time = time\n",
    "plt.title(\"{} age grid (myr), {} Ma\".format(seafloorgrid.file_collection, time))\n",
    "im = gplot.plot_grid(\n",
    "    ax, \n",
    "    age_grid.data, \n",
    "    cmap=\"YlGnBu\",\n",
    "    vmin = 0, \n",
    "    vmax =410,\n",
    ")\n",
    "gplot.plot_ridges(ax)\n",
    "plt.colorbar(im, label=\"Age (Ma)\", shrink=0.5, pad=0.05)\n",
    "\n",
    "# Unmasked agegrid\n",
    "ax = fig.add_subplot(222, projection=ccrs.Mollweide(central_longitude=20))\n",
    "gplot.time = time\n",
    "plt.title(\"{} unmasked age grid (myr), {} Ma\".format(seafloorgrid.file_collection, time))\n",
    "im = gplot.plot_grid(\n",
    "    ax, \n",
    "    unmasked_age_grid.data, \n",
    "    cmap=\"YlGnBu\",\n",
    "    vmin = 0, \n",
    "    vmax =410,\n",
    ")\n",
    "gplot.plot_ridges(ax)\n",
    "plt.colorbar(im, label=\"Age (Ma)\", shrink=0.5, pad=0.05)\n",
    "\n",
    "\n",
    "# Masked spreading rate grid\n",
    "ax1 = fig.add_subplot(223, projection=ccrs.Mollweide(central_longitude=20))\n",
    "gplot.time = time\n",
    "plt.title(\"{} spreading rate grid (mm/yr), {} Ma\".format(seafloorgrid.file_collection, time))\n",
    "im1 = gplot.plot_grid(\n",
    "    ax1, \n",
    "    sr_grid.data, \n",
    "    cmap=\"magma\",\n",
    "    alpha=0.7,\n",
    ")\n",
    "gplot.plot_ridges(ax1)\n",
    "plt.colorbar(im1, label=\"Spreading rate (mm/yr)\", shrink=0.5, pad=0.05)\n",
    "\n",
    "# Unmasked spreading rate grid\n",
    "ax1 = fig.add_subplot(224, projection=ccrs.Mollweide(central_longitude=20))\n",
    "gplot.time = time\n",
    "plt.title(\"{} unmasked spreading rate grid (mm/yr), {} Ma\".format(seafloorgrid.file_collection, time))\n",
    "im1 = gplot.plot_grid(\n",
    "    ax1, \n",
    "    unmasked_sr_grid.data, \n",
    "    cmap=\"magma\",\n",
    "    alpha=0.7,\n",
    ")\n",
    "gplot.plot_ridges(ax1)\n",
    "plt.colorbar(im1, label=\"Spreading rate (mm/yr)\", shrink=0.5, pad=0.05)\n",
    "\n",
    "# Save figure\n",
    "plt.savefig(\n",
    "    \"{}/{}_{}Myr_plots.png\".format(\n",
    "        output_parent_directory,\n",
    "        seafloorgrid.file_collection,\n",
    "        int(time),\n",
    "    ),\n",
    "    bbox_inches = 'tight',\n",
    ")"
   ]
  }
 ],
 "metadata": {
  "kernelspec": {
   "display_name": "Python 3 (ipykernel)",
   "language": "python",
   "name": "python3"
  },
  "language_info": {
   "codemirror_mode": {
    "name": "ipython",
    "version": 3
   },
   "file_extension": ".py",
   "mimetype": "text/x-python",
   "name": "python",
   "nbconvert_exporter": "python",
   "pygments_lexer": "ipython3",
   "version": "3.11.11"
  }
 },
 "nbformat": 4,
 "nbformat_minor": 5
}
