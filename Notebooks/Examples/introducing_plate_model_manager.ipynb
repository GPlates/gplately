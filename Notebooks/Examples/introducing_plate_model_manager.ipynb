{
 "cells": [
  {
   "cell_type": "markdown",
   "id": "4c135980-c7ef-4058-b647-3beebe8c382a",
   "metadata": {},
   "source": [
    "This notebook demonstrate how to use the PlateModelManager to access plate models."
   ]
  },
  {
   "cell_type": "code",
   "execution_count": null,
   "id": "12419def-e96e-4b19-917a-c1c9ded6222a",
   "metadata": {},
   "outputs": [],
   "source": [
    "import os\n",
    "\n",
    "from gplately import PlateModelManager, PresentDayRasterManager\n",
    "from gplately.commands.list_models import get_model_names\n",
    "\n",
    "pm_manager = PlateModelManager()"
   ]
  },
  {
   "cell_type": "markdown",
   "id": "8ebd4dda-24ad-4d58-bf65-d4daf9181c16",
   "metadata": {},
   "source": [
    "**Get all available models(names) in the PlateModelManager**"
   ]
  },
  {
   "cell_type": "code",
   "execution_count": null,
   "id": "3ec30bd2-d924-4997-8e04-5e9682cf4409",
   "metadata": {},
   "outputs": [],
   "source": [
    "gplately_model_names = get_model_names()\n",
    "for name in pm_manager.get_available_model_names():\n",
    "    # the pm_manager.get_available_model_names() returns a superset of GPlately models.\n",
    "    # we need to check the the model name agaist a list of GPlately officially supported models.\n",
    "    if name in gplately_model_names:\n",
    "        print(name)"
   ]
  },
  {
   "cell_type": "markdown",
   "id": "5b10a01a-f77c-42e0-bcec-10dc12973475",
   "metadata": {},
   "source": [
    "**Download model \"Muller2019\" and put the files in folder \"plate-model-repo\"**"
   ]
  },
  {
   "cell_type": "code",
   "execution_count": null,
   "id": "7331216c-a3ea-4c68-b457-6e9346810a59",
   "metadata": {},
   "outputs": [],
   "source": [
    "model = pm_manager.get_model(\"Muller2019\")\n",
    "assert model\n",
    "model.set_data_dir(\"plate-model-repo\")\n",
    "for layer in model.get_avail_layers():\n",
    "    model.get_layer(layer)\n",
    "\n",
    "# now let's see what are inside the \"plate-model-repo/muller2019\" folder\n",
    "print(os.listdir(\"plate-model-repo/muller2019\"))"
   ]
  },
  {
   "cell_type": "markdown",
   "id": "516f15cb-c109-4eeb-a05d-7cc035f24406",
   "metadata": {},
   "source": [
    "**List all vailable layers in model Muller2019**"
   ]
  },
  {
   "cell_type": "code",
   "execution_count": null,
   "id": "48234488-0c9e-4b40-9b80-d5a466ddab6f",
   "metadata": {},
   "outputs": [],
   "source": [
    "for layer in model.get_avail_layers():\n",
    "    print(layer)"
   ]
  },
  {
   "cell_type": "markdown",
   "id": "0e62666e-1787-4a25-9292-c5386d4fa18d",
   "metadata": {},
   "source": [
    "**Download rotation files**"
   ]
  },
  {
   "cell_type": "code",
   "execution_count": null,
   "id": "6fc1b8cd-174a-4292-9790-24d1bee3b941",
   "metadata": {},
   "outputs": [],
   "source": [
    "rotation_files = model.get_rotation_model()\n",
    "print(rotation_files)"
   ]
  },
  {
   "cell_type": "markdown",
   "id": "d2e47471-ee73-4d2c-ae92-1013c331ff35",
   "metadata": {},
   "source": [
    "**Download static polygons**"
   ]
  },
  {
   "cell_type": "code",
   "execution_count": null,
   "id": "7dfa8cc0-6bf4-4b8e-99a2-5f942f7eb427",
   "metadata": {},
   "outputs": [],
   "source": [
    "static_polygon_files = model.get_layer(\"StaticPolygons\")\n",
    "print(static_polygon_files)"
   ]
  },
  {
   "cell_type": "markdown",
   "id": "7ce3ef07-e3e6-47d6-9e05-53070365b7cb",
   "metadata": {},
   "source": [
    "**Download Coastlines**"
   ]
  },
  {
   "cell_type": "code",
   "execution_count": null,
   "id": "0062e076-1489-43f9-b017-e5147df4af80",
   "metadata": {},
   "outputs": [],
   "source": [
    "coasts_files = model.get_layer(\"Coastlines\")\n",
    "print(coasts_files)"
   ]
  },
  {
   "cell_type": "markdown",
   "id": "d6c3e016-1c7c-44ca-a03d-0c24d4296ca2",
   "metadata": {},
   "source": [
    "**Download all layers**"
   ]
  },
  {
   "cell_type": "code",
   "execution_count": null,
   "id": "51d9349e-717d-4e3f-a988-786d0e1e3fe2",
   "metadata": {},
   "outputs": [],
   "source": [
    "for layer in model.get_avail_layers():\n",
    "    print(model.get_layer(layer))"
   ]
  },
  {
   "cell_type": "markdown",
   "id": "0138574e-f3cc-4d5b-92dd-240eb0e1d74e",
   "metadata": {},
   "source": [
    "**Get a list of time dependent rasters**"
   ]
  },
  {
   "cell_type": "code",
   "execution_count": null,
   "id": "8b1b89c3-473e-4b3d-88af-769d9a1adb25",
   "metadata": {},
   "outputs": [],
   "source": [
    "for raster in model.get_avail_time_dependent_raster_names():\n",
    "    print(raster)"
   ]
  },
  {
   "cell_type": "markdown",
   "id": "b7710b4c-8879-4e73-a66f-2323aeeed95f",
   "metadata": {},
   "source": [
    "**Download AgeGrids rasters**"
   ]
  },
  {
   "cell_type": "code",
   "execution_count": null,
   "id": "2373eaf9-8425-4e4a-8f24-591c149de181",
   "metadata": {},
   "outputs": [],
   "source": [
    "import warnings\n",
    "warnings.filterwarnings(\"ignore\")\n",
    "print(model.get_rasters(\"AgeGrids\", times=[10, 20, 30]))\n",
    "print(model.get_raster(\"AgeGrids\", time=100))"
   ]
  },
  {
   "cell_type": "markdown",
   "id": "7fa5db95-2f4c-4ace-8390-2699e60ed8de",
   "metadata": {},
   "source": [
    "**Download AgeGrids rasters for all available times**\n",
    "\n",
    "This function will take a while to finish and download a large volume data. Uncomment the code in the code cell below to try it."
   ]
  },
  {
   "cell_type": "code",
   "execution_count": null,
   "id": "79d26692-d689-46db-86df-57a2d34782c3",
   "metadata": {},
   "outputs": [],
   "source": [
    "# model.download_time_dependent_rasters(\"AgeGrids\")"
   ]
  },
  {
   "cell_type": "markdown",
   "id": "cdeaba12-fe8a-4182-9df1-a52c8edf96ed",
   "metadata": {},
   "source": [
    "**List the names of all present-day rasters**"
   ]
  },
  {
   "cell_type": "code",
   "execution_count": null,
   "id": "ab04093c-af67-41c4-a1a8-273f36d0958b",
   "metadata": {},
   "outputs": [],
   "source": [
    "print(PresentDayRasterManager().list_present_day_rasters())"
   ]
  },
  {
   "cell_type": "markdown",
   "id": "2afe9e51-ccbe-466f-b58a-404a21298a05",
   "metadata": {},
   "source": [
    "**Get \"topography\" present-day raster**"
   ]
  },
  {
   "cell_type": "code",
   "execution_count": null,
   "id": "89e64f01-7339-4bdd-b6b3-f9f635e5cbfd",
   "metadata": {},
   "outputs": [],
   "source": [
    "print(PresentDayRasterManager().get_raster(\"topography\"))"
   ]
  }
 ],
 "metadata": {
  "kernelspec": {
   "display_name": "Python 3 (ipykernel)",
   "language": "python",
   "name": "python3"
  },
  "language_info": {
   "codemirror_mode": {
    "name": "ipython",
    "version": 3
   },
   "file_extension": ".py",
   "mimetype": "text/x-python",
   "name": "python",
   "nbconvert_exporter": "python",
   "pygments_lexer": "ipython3",
   "version": "3.11.11"
  }
 },
 "nbformat": 4,
 "nbformat_minor": 5
}
