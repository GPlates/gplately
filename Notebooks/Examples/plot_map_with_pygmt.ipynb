{
 "cells": [
  {
   "cell_type": "markdown",
   "id": "14b5d87d-9a0f-4223-ab07-df3f806dae9d",
   "metadata": {},
   "source": [
    "For now, the pygmt integration is still pretty basic.\n",
    "Please create GitHub issues and let us know how we can enhance the pygmt integration.\n",
    "We are grateful for your constructive feedbacks. Thank you!\n",
    "\n",
    "https://github.com/GPlates/gplately/issues"
   ]
  },
  {
   "cell_type": "code",
   "execution_count": null,
   "id": "21798db8-a909-4e48-af78-9cf1ccac053e",
   "metadata": {},
   "outputs": [],
   "source": [
    "from gplately.auxiliary import get_gplot, get_pygmt_basemap_figure\n",
    "from gplately.mapping.pygmt_plot import PygmtPlotEngine\n",
    "\n",
    "# tell PlotTopologies object to use the PygmtPlotEngine\n",
    "gplot = get_gplot(\n",
    "        model=\"merdith2021\",\n",
    "        model_repo_dir=\"plate-model-repo\",\n",
    "        time=55,\n",
    "        plot_engine=PygmtPlotEngine(),\n",
    "    )\n",
    "# you need to know how to specify projection and region in GMT way\n",
    "fig = get_pygmt_basemap_figure(projection=\"N180/10c\", region=\"d\")\n",
    "\n",
    "# now you can plot some features with the PlotTopologies object\n",
    "gplot.plot_topological_plate_boundaries(\n",
    "    fig,\n",
    "    edgecolor=\"black\",\n",
    "    linewidth=0.25,\n",
    "    central_meridian=180,\n",
    "    gmtlabel=\"plate boundaries\",\n",
    ")\n",
    "gplot.plot_coastlines(\n",
    "    fig, edgecolor=\"none\", facecolor=\"gray\", linewidth=0.1, central_meridian=180\n",
    ")\n",
    "gplot.plot_ridges(fig, pen=\"0.5p,red\", gmtlabel=\"ridges\")\n",
    "gplot.plot_transforms(fig, pen=\"0.5p,red\", gmtlabel=\"transforms\")\n",
    "gplot.plot_subduction_teeth(fig, color=\"blue\", gmtlabel=\"subduction zones\")\n",
    "\n",
    "# use pygmt directly to plot title and legend\n",
    "fig.text(\n",
    "    text=\"55Ma (Merdith2021)\",\n",
    "    position=\"TC\",\n",
    "    no_clip=True,\n",
    "    font=\"12p,Helvetica,black\",\n",
    "    offset=\"j0/-0.5c\",\n",
    ")\n",
    "fig.legend(position=\"jBL+o-2.7/0\", box=\"+gwhite+p0.5p\")\n",
    "\n",
    "fig.show(width=1200)"
   ]
  },
  {
   "cell_type": "markdown",
   "id": "4e8f8c09-20a7-432a-b1e4-1a406ce73a61",
   "metadata": {},
   "source": [
    "The code cell below is **not important**. Just let you know that plotting grid and velocities with pygmt has not been implemented yet."
   ]
  },
  {
   "cell_type": "code",
   "execution_count": null,
   "id": "755ac068-6e89-4e08-b282-b6240806b82e",
   "metadata": {},
   "outputs": [],
   "source": [
    "try:\n",
    "    # plotting grid has not been implemented in PygmtPlotEngine yet.\n",
    "    gplot.plot_grid(fig, None)\n",
    "except NotImplementedError as e:\n",
    "    print(e)\n",
    "\n",
    "try:\n",
    "    # plotting velocities has not been implemented in PygmtPlotEngine yet.\n",
    "    gplot.plot_plate_motion_vectors(fig)\n",
    "except NotImplementedError as e:\n",
    "    print(e)"
   ]
  },
  {
   "cell_type": "code",
   "execution_count": null,
   "id": "67af34e2-56f5-4bd8-a6d2-ef0dae7487d5",
   "metadata": {},
   "outputs": [],
   "source": []
  }
 ],
 "metadata": {
  "kernelspec": {
   "display_name": "Python 3 (ipykernel)",
   "language": "python",
   "name": "python3"
  },
  "language_info": {
   "codemirror_mode": {
    "name": "ipython",
    "version": 3
   },
   "file_extension": ".py",
   "mimetype": "text/x-python",
   "name": "python",
   "nbconvert_exporter": "python",
   "pygments_lexer": "ipython3",
   "version": "3.11.11"
  }
 },
 "nbformat": 4,
 "nbformat_minor": 5
}
