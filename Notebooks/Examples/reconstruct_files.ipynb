{
 "cells": [
  {
   "cell_type": "markdown",
   "id": "a310ae36-f8e0-4ed5-aa0b-05e15a61c1c3",
   "metadata": {},
   "source": [
    "**Step 0: Download the shapefiles for this example.**\n",
    "\n",
    "Don't worry about the `FileDownloader`. If you'd like, you may download the zip file manually."
   ]
  },
  {
   "cell_type": "code",
   "execution_count": null,
   "id": "affaf4ff-dda3-4e2c-aa04-779847546419",
   "metadata": {},
   "outputs": [],
   "source": [
    "import cartopy.crs as ccrs\n",
    "import matplotlib.pyplot as plt\n",
    "import pygplates\n",
    "from plate_model_manager.utils import download\n",
    "\n",
    "import gplately\n",
    "from gplately.auxiliary import get_plate_reconstruction\n",
    "\n",
    "time = 100\n",
    "data_dir = \"gplately-example-data\"\n",
    "\n",
    "downloader = download.FileDownloader(\n",
    "    \"https://repo.gplates.org/webdav/gplately-test-data/Global_Paleogeography_Cao_etal.zip\",\n",
    "    f\"{data_dir}/.metadata.json\",\n",
    "    f\"{data_dir}\",\n",
    ")\n",
    "# only re-download when necessary\n",
    "if downloader.check_if_file_need_update():\n",
    "    downloader.download_file_and_update_metadata()\n",
    "else:\n",
    "    print(f\"The local files are still good. No need to download again!\")"
   ]
  },
  {
   "cell_type": "markdown",
   "id": "fb2091df-ccf0-4c6a-9023-850a79783fc8",
   "metadata": {},
   "source": [
    "**Step 1: Load files**"
   ]
  },
  {
   "cell_type": "code",
   "execution_count": null,
   "id": "97d02bc0-940f-4d12-95f5-8b1535c1a18f",
   "metadata": {},
   "outputs": [],
   "source": [
    "landmass_fc = pygplates.FeatureCollection(f\"{data_dir}/Global_Cao_etal/lm_402_2.shp\")\n",
    "mountain_fc = pygplates.FeatureCollection(f\"{data_dir}/Global_Cao_etal/m_402_2.shp\")\n",
    "icesheet_fc = pygplates.FeatureCollection(f\"{data_dir}/Global_Cao_etal/i_402_2.shp\")\n",
    "sallow_marine_fc = pygplates.FeatureCollection(f\"{data_dir}/Global_Cao_etal/sm_402_2.shp\")"
   ]
  },
  {
   "cell_type": "markdown",
   "id": "ed3ee3bc-3075-422c-b3cc-c5786406345c",
   "metadata": {},
   "source": [
    "**Step 2: Reconstruct files**"
   ]
  },
  {
   "cell_type": "code",
   "execution_count": null,
   "id": "7fdcdc4a-7f7e-4571-892e-ad5c563e3f6d",
   "metadata": {},
   "outputs": [],
   "source": [
    "# use the auxiliary function to create a PlateReconstruction object\n",
    "plate_reconstruction_obj = get_plate_reconstruction(\"cao2024\")\n",
    "\n",
    "reconstructed_landmass = plate_reconstruction_obj.reconstruct(landmass_fc, time)\n",
    "reconstructed_mountain = plate_reconstruction_obj.reconstruct(mountain_fc, time)\n",
    "reconstructed_icesheet = plate_reconstruction_obj.reconstruct(icesheet_fc, time)\n",
    "reconstructed_sallow_marine = plate_reconstruction_obj.reconstruct(\n",
    "    sallow_marine_fc, time\n",
    ")"
   ]
  },
  {
   "cell_type": "markdown",
   "id": "cf408469-c8e4-40a1-9664-945ebe8c076a",
   "metadata": {},
   "source": [
    "**Step 3: Plot the map**"
   ]
  },
  {
   "cell_type": "code",
   "execution_count": null,
   "id": "43395251-ee81-4e27-8ff6-f0e9fa99382a",
   "metadata": {},
   "outputs": [],
   "source": [
    "ax = plt.figure(figsize=(8, 6)).add_subplot(\n",
    "    111, projection=ccrs.Robinson(central_longitude=0)\n",
    ")\n",
    "\n",
    "ax.add_geometries(\n",
    "    gplately.plot.shapelify_features(reconstructed_sallow_marine),\n",
    "    crs=ccrs.PlateCarree(),\n",
    "    facecolor=\"#add8e6\",\n",
    "    edgecolor=\"none\",\n",
    ")\n",
    "ax.add_geometries(\n",
    "    gplately.plot.shapelify_features(reconstructed_landmass),\n",
    "    crs=ccrs.PlateCarree(),\n",
    "    facecolor=\"#fedf00\",\n",
    "    edgecolor=\"none\",\n",
    ")\n",
    "ax.add_geometries(\n",
    "    gplately.plot.shapelify_features(reconstructed_mountain),\n",
    "    crs=ccrs.PlateCarree(),\n",
    "    facecolor=\"#ffa500\",\n",
    "    edgecolor=\"none\",\n",
    ")\n",
    "ax.add_geometries(\n",
    "    gplately.plot.shapelify_features(reconstructed_icesheet),\n",
    "    crs=ccrs.PlateCarree(),\n",
    "    facecolor=\"#e9e9ff\",\n",
    "    edgecolor=\"none\",\n",
    ")\n",
    "\n",
    "ax.set_global()\n",
    "plt.title(f\"Paleogeography at {time} Ma\")\n",
    "plt.show()\n"
   ]
  }
 ],
 "metadata": {
  "kernelspec": {
   "display_name": "Python 3 (ipykernel)",
   "language": "python",
   "name": "python3"
  },
  "language_info": {
   "codemirror_mode": {
    "name": "ipython",
    "version": 3
   },
   "file_extension": ".py",
   "mimetype": "text/x-python",
   "name": "python",
   "nbconvert_exporter": "python",
   "pygments_lexer": "ipython3",
   "version": "3.11.11"
  }
 },
 "nbformat": 4,
 "nbformat_minor": 5
}
