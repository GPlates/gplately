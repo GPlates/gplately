{
 "cells": [
  {
   "cell_type": "markdown",
   "id": "e823122c-4091-42a6-803d-70e5d0377981",
   "metadata": {},
   "source": [
    "This example demonstrates how to use your own plate model and reconstruct points."
   ]
  },
  {
   "cell_type": "markdown",
   "id": "a310ae36-f8e0-4ed5-aa0b-05e15a61c1c3",
   "metadata": {},
   "source": [
    "**Step 0: Download the test files for this example.**\n",
    "\n",
    "Don't worry about the `FileDownloader`. If you'd like, you may download the zip file manually."
   ]
  },
  {
   "cell_type": "code",
   "execution_count": null,
   "id": "affaf4ff-dda3-4e2c-aa04-779847546419",
   "metadata": {},
   "outputs": [],
   "source": [
    "import cartopy.crs as ccrs\n",
    "import matplotlib.pyplot as plt\n",
    "import pygplates\n",
    "from plate_model_manager.utils import download\n",
    "\n",
    "import gplately\n",
    "from gplately.auxiliary import get_plate_reconstruction\n",
    "\n",
    "time = 50\n",
    "data_dir = \"gplately-example-data\"\n",
    "\n",
    "downloader = download.FileDownloader(\n",
    "    \"https://repo.gplates.org/webdav/gplately-test-data/test_model.zip\",\n",
    "    f\"{data_dir}/.metadata.json\",\n",
    "    f\"{data_dir}\",\n",
    ")\n",
    "# only re-download when necessary\n",
    "if downloader.check_if_file_need_update():\n",
    "    downloader.download_file_and_update_metadata()\n",
    "else:\n",
    "    print(f\"The local files are still good. No need to download again!\")"
   ]
  },
  {
   "cell_type": "markdown",
   "id": "fb2091df-ccf0-4c6a-9023-850a79783fc8",
   "metadata": {},
   "source": [
    "**Step 1: Create `PlateReconstruction` and `PlotTopologies` objects with your own plate model**"
   ]
  },
  {
   "cell_type": "code",
   "execution_count": null,
   "id": "97d02bc0-940f-4d12-95f5-8b1535c1a18f",
   "metadata": {},
   "outputs": [],
   "source": [
    "model = gplately.PlateReconstruction(\n",
    "    rotation_model=f\"{data_dir}/test_model/test_rotations.rot\",\n",
    "    topology_features=f\"{data_dir}/test_model/test_topology.gpmlz\",\n",
    "    static_polygons=f\"{data_dir}/test_model/test_static_polygons.gpmlz\",\n",
    ")\n",
    "gplot = gplately.PlotTopologies(\n",
    "    model,\n",
    "    coastlines=f\"{data_dir}/test_model/test_coastlines.gpmlz\",\n",
    "    continents=f\"{data_dir}/test_model/test_continental_polygons.shp\",\n",
    "    COBs=f\"{data_dir}/test_model/test_cobs.gpmlz\",\n",
    "    time=time,\n",
    ")"
   ]
  },
  {
   "cell_type": "markdown",
   "id": "ed3ee3bc-3075-422c-b3cc-c5786406345c",
   "metadata": {},
   "source": [
    "**Step 2: Reconstruct points in shapefile**"
   ]
  },
  {
   "cell_type": "code",
   "execution_count": null,
   "id": "7fdcdc4a-7f7e-4571-892e-ad5c563e3f6d",
   "metadata": {},
   "outputs": [],
   "source": [
    "points = [\n",
    "    p.get_geometry().to_lat_lon()\n",
    "    for p in pygplates.FeatureCollection(f\"{data_dir}/test_model/Australia_Points.shp\")\n",
    "]\n",
    "\n",
    "g_points = gplately.Points(\n",
    "    plate_reconstruction=model, lons=[p[1] for p in points], lats=[p[0] for p in points]\n",
    ")\n",
    "reconstructed_points = g_points.reconstruct(time=time, return_array=True)"
   ]
  },
  {
   "cell_type": "markdown",
   "id": "cf408469-c8e4-40a1-9664-945ebe8c076a",
   "metadata": {},
   "source": [
    "**Step 3: Plot the map**"
   ]
  },
  {
   "cell_type": "code",
   "execution_count": null,
   "id": "43395251-ee81-4e27-8ff6-f0e9fa99382a",
   "metadata": {},
   "outputs": [],
   "source": [
    "ax = plt.figure(figsize=(8, 6)).add_subplot(\n",
    "    111, projection=ccrs.Robinson(central_longitude=180)\n",
    ")\n",
    "\n",
    "ax.scatter(\n",
    "    reconstructed_points[0],\n",
    "    reconstructed_points[1],\n",
    "    transform=ccrs.PlateCarree(),\n",
    "    marker=\"o\",\n",
    "    color=\"blue\",\n",
    ")\n",
    "gplot.plot_coastlines(ax, color=\"grey\")\n",
    "ax.set_global()\n",
    "plt.title(f\"{time} Ma\")\n",
    "plt.show()\n"
   ]
  }
 ],
 "metadata": {
  "kernelspec": {
   "display_name": "Python 3 (ipykernel)",
   "language": "python",
   "name": "python3"
  },
  "language_info": {
   "codemirror_mode": {
    "name": "ipython",
    "version": 3
   },
   "file_extension": ".py",
   "mimetype": "text/x-python",
   "name": "python",
   "nbconvert_exporter": "python",
   "pygments_lexer": "ipython3",
   "version": "3.11.11"
  }
 },
 "nbformat": 4,
 "nbformat_minor": 5
}
