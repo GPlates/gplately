{
 "cells": [
  {
   "cell_type": "markdown",
   "id": "58924b57-6b0f-4888-8894-16a979ff4a00",
   "metadata": {},
   "source": [
    "This notebook demonstrate how to create a more interesting paleo-map using GPlately."
   ]
  },
  {
   "cell_type": "code",
   "execution_count": null,
   "id": "7a33aaf4-e20a-4c7d-ab1b-a58cae918068",
   "metadata": {},
   "outputs": [],
   "source": [
    "import cartopy.crs as ccrs\n",
    "import matplotlib.pyplot as plt\n",
    "\n",
    "from gplately import PlateModelManager, Raster, auxiliary\n",
    "\n",
    "# use the auxiliary function to create a PlotTopologies instance\n",
    "gplot = auxiliary.get_gplot(\"Muller2019\", time=100)  # 100Ma\n",
    "\n",
    "# download the age grid at the reconstruction time\n",
    "agegrid = Raster(\n",
    "    data=PlateModelManager()\n",
    "    .get_model(\"Muller2019\")\n",
    "    .get_raster(\"AgeGrids\", int(gplot.time))  # type: ignore\n",
    ")\n",
    "\n",
    "fig = plt.figure(figsize=(8, 4))\n",
    "ax1 = fig.add_subplot(111, projection=ccrs.Mollweide(190))\n",
    "\n",
    "# plot something for fun\n",
    "gplot.plot_continents(ax1, facecolor=\"0.8\")\n",
    "gplot.plot_coastlines(ax1, color=\"0.5\")\n",
    "gplot.plot_ridges(ax1, color=\"red\")\n",
    "gplot.plot_trenches(ax1, color=\"k\")\n",
    "gplot.plot_subduction_teeth(ax1, color=\"k\")\n",
    "im = gplot.plot_grid(ax1, agegrid.data, cmap=\"YlGnBu\", vmin=0, vmax=200)\n",
    "gplot.plot_plate_motion_vectors(\n",
    "    ax1, spacingX=10, spacingY=10, normalise=True, zorder=10, alpha=0.5\n",
    ")\n",
    "\n",
    "fig.colorbar(im, orientation=\"horizontal\", shrink=0.4, pad=0.05, label=\"Age (Ma)\")\n",
    "plt.title(f\"{int(gplot.time)} Ma\")\n",
    "\n",
    "plt.show()\n"
   ]
  },
  {
   "cell_type": "code",
   "execution_count": null,
   "id": "73642214-9a36-42db-8f99-f2d175094aa3",
   "metadata": {},
   "outputs": [],
   "source": []
  }
 ],
 "metadata": {
  "kernelspec": {
   "display_name": "Python 3 (ipykernel)",
   "language": "python",
   "name": "python3"
  },
  "language_info": {
   "codemirror_mode": {
    "name": "ipython",
    "version": 3
   },
   "file_extension": ".py",
   "mimetype": "text/x-python",
   "name": "python",
   "nbconvert_exporter": "python",
   "pygments_lexer": "ipython3",
   "version": "3.11.11"
  }
 },
 "nbformat": 4,
 "nbformat_minor": 5
}
