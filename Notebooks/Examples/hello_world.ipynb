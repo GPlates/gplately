{
 "cells": [
  {
   "cell_type": "markdown",
   "id": "a962baf2-d6af-49ef-b891-b8c90a1ece5c",
   "metadata": {},
   "source": [
    "This is a minimal working example of GPlately to demonstrate how easy it is to create a paleo-map using GPlately."
   ]
  },
  {
   "cell_type": "code",
   "execution_count": null,
   "id": "3bb165e4-f041-49c2-924d-f819b6e6c9e7",
   "metadata": {},
   "outputs": [],
   "source": [
    "import cartopy.crs as ccrs\n",
    "import matplotlib.pyplot as plt\n",
    "\n",
    "import gplately \n",
    "\n",
    "# create a basemap using Mollweide projection\n",
    "ax = plt.figure(figsize=(8, 4)).add_subplot(111, projection=ccrs.Mollweide(180))\n",
    "\n",
    "# get a PlotTopologies object\n",
    "gplot = gplately.auxiliary.get_gplot(\"Muller2019\", time=100) \n",
    "\n",
    "# use the PlotTopologies object to plot a paleo-coastlines map\n",
    "gplot.plot_coastlines(ax, color=\"lightblue\",facecolor=\"0.8\")\n",
    "\n",
    "# add title for the map\n",
    "plt.title(f\"Paleo-coastlines at {int(gplot.time)} Ma\")\n",
    "\n",
    "# display the map\n",
    "plt.show()"
   ]
  },
  {
   "cell_type": "code",
   "execution_count": null,
   "id": "6ace6a77-a13b-456c-a1d0-aaccb140507f",
   "metadata": {},
   "outputs": [],
   "source": []
  }
 ],
 "metadata": {
  "kernelspec": {
   "display_name": "Python 3 (ipykernel)",
   "language": "python",
   "name": "python3"
  },
  "language_info": {
   "codemirror_mode": {
    "name": "ipython",
    "version": 3
   },
   "file_extension": ".py",
   "mimetype": "text/x-python",
   "name": "python",
   "nbconvert_exporter": "python",
   "pygments_lexer": "ipython3",
   "version": "3.11.11"
  }
 },
 "nbformat": 4,
 "nbformat_minor": 5
}
