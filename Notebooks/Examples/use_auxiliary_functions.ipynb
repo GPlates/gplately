{
 "cells": [
  {
   "cell_type": "markdown",
   "id": "f2985a8b-4e94-4a69-9b2d-c8f80ec5788b",
   "metadata": {},
   "source": [
    "Use the auxiliary functions as a shortcut to create the [PlateReconstruction](https://gplates.github.io/gplately/latest/sphinx/html/generated/gplately.PlateReconstruction.html) and [PlotTopologies](https://gplates.github.io/gplately/latest/sphinx/html/generated/gplately.PlotTopologies.html) objects for a given model name.\n",
    "Visit [this page](https://gplates.github.io/gplately/sphinx-latest/notebook-html/02-PlateReconstructions.html) \n",
    "if you would like to know more about the `PlateReconstruction` and `PlotTopologies`."
   ]
  },
  {
   "cell_type": "code",
   "execution_count": null,
   "id": "a5d59947-7b9d-4fa1-95bd-f8df315f6897",
   "metadata": {},
   "outputs": [],
   "source": [
    "from gplately.auxiliary import get_gplot, get_plate_reconstruction\n",
    "\n",
    "# use the auxiliary function to create a PlateReconstruction object\n",
    "plate_reconstruction_obj = get_plate_reconstruction(\"Muller2019\")\n",
    "print(plate_reconstruction_obj)\n",
    "\n",
    "# use the auxiliary function to create a PlotTopologies object\n",
    "plot_topologies_obj = get_gplot(\"Muller2019\", time=140)\n",
    "print(plot_topologies_obj)"
   ]
  },
  {
   "cell_type": "markdown",
   "id": "d299d220-2390-4bef-a373-c78cf357d7ea",
   "metadata": {},
   "source": [
    "There is a `PlateReconstruction` object inside the `PlotTopologies` object. So, in most cases, a single **get_gplot()** call is enough. \n",
    "You can retrieve the `PlateReconstruction` object from a `PlotTopologies` object later."
   ]
  },
  {
   "cell_type": "code",
   "execution_count": null,
   "id": "32c78954-0847-45f9-83b6-931ceb93789c",
   "metadata": {},
   "outputs": [],
   "source": [
    "plate_reconstruction_obj_within_plot_topologies_obj = (\n",
    "    plot_topologies_obj.plate_reconstruction\n",
    ")\n",
    "print(plate_reconstruction_obj_within_plot_topologies_obj)"
   ]
  }
 ],
 "metadata": {
  "kernelspec": {
   "display_name": "Python 3 (ipykernel)",
   "language": "python",
   "name": "python3"
  },
  "language_info": {
   "codemirror_mode": {
    "name": "ipython",
    "version": 3
   },
   "file_extension": ".py",
   "mimetype": "text/x-python",
   "name": "python",
   "nbconvert_exporter": "python",
   "pygments_lexer": "ipython3",
   "version": "3.11.11"
  }
 },
 "nbformat": 4,
 "nbformat_minor": 5
}
