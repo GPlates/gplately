{
 "cells": [
  {
   "cell_type": "markdown",
   "id": "b0281d8f-1956-4f25-8559-611a65928c7b",
   "metadata": {},
   "source": [
    "**Generate Icosahedron mesh and plot with [plot_trisurf](https://matplotlib.org/stable/api/_as_gen/mpl_toolkits.mplot3d.axes3d.Axes3D.plot_trisurf.html).**"
   ]
  },
  {
   "cell_type": "code",
   "execution_count": null,
   "id": "d036b388-2bc7-4474-a428-b056fdf9d459",
   "metadata": {},
   "outputs": [],
   "source": [
    "import matplotlib.pyplot as plt\n",
    "import numpy as np\n",
    "\n",
    "import gplately\n",
    "from gplately.lib.icosahedron import get_mesh, xyz2lonlat\n",
    "\n",
    "mesh_resolution=3\n",
    "vertices_0, faces_0 = get_mesh(mesh_resolution)\n",
    "#print(vertices_0.shape, faces_0.shape)\n",
    "\n",
    "fig, ax = plt.subplots(subplot_kw={\"projection\": \"3d\"},figsize=(8,8))\n",
    "\n",
    "ax.plot_trisurf(vertices_0[:,0], vertices_0[:,1], vertices_0[:,2], triangles=faces_0, cmap='jet', linewidths=1)\n",
    "\n",
    "ax.view_init(elev=-160., azim=45)\n",
    "\n",
    "ax.set_box_aspect((1, 1, 0.9)) \n",
    "plt.show()"
   ]
  },
  {
   "cell_type": "markdown",
   "id": "6f69b910-faaf-4773-bfe5-cab55f27168a",
   "metadata": {},
   "source": [
    "**Plot the  Icosahedron mesh with [Poly3DCollection](https://matplotlib.org/stable/api/_as_gen/mpl_toolkits.mplot3d.art3d.Poly3DCollection.html).**"
   ]
  },
  {
   "cell_type": "code",
   "execution_count": null,
   "id": "f82b876e-52d6-4f2c-9e83-7790b4c437ff",
   "metadata": {},
   "outputs": [],
   "source": [
    "from mpl_toolkits.mplot3d.art3d import Poly3DCollection\n",
    "\n",
    "fig = plt.figure(figsize=(8,8))\n",
    "ax = fig.add_subplot(111, projection='3d')\n",
    "\n",
    "data = np.array([[vertices_0[face[0]], vertices_0[face[1]], vertices_0[face[2]]] for face in faces_0 ])\n",
    "#print(data.shape)\n",
    "\n",
    "ax.add_collection3d(Poly3DCollection(data, facecolors=[np.random.rand(3,) for _ in data], linewidths=1))\n",
    "\n",
    "ax.view_init(elev=-160., azim=45)\n",
    "ax.set_box_aspect((1, 1, 0.9)) \n",
    "plt.show()"
   ]
  },
  {
   "cell_type": "markdown",
   "id": "a2e46190-2b6d-41fb-b47f-876c2a09147e",
   "metadata": {},
   "source": [
    "**Save the Icosahedron mesh vertices into a .gmt file, and then you may open the file in [GPlates](https://www.gplates.org/).**"
   ]
  },
  {
   "cell_type": "code",
   "execution_count": null,
   "id": "d50f4e24-d6a3-4fbe-b0cd-e70b707ec593",
   "metadata": {},
   "outputs": [],
   "source": [
    "seen = set()\n",
    "with open(\"icosahedron_mesh.gmt\", \"w+\") as f:\n",
    "    for v in vertices_0:\n",
    "        lon, lat = xyz2lonlat(v[0], v[1], v[2])\n",
    "        line = f\"{lon:0.2f} {lat:0.2f}\\n\"\n",
    "        if line in seen:\n",
    "            continue\n",
    "        f.write(line)\n",
    "        seen.add(line)\n",
    "print(\"Now you can open the file icosahedron_mesh.gmt with GPlates to see the Icosahedron mesh vertices.\")\n",
    "print(\"If you don't have GPlates installed yet, you may download it at https://www.earthbyte.org/download-gplates-2-5/.\")"
   ]
  }
 ],
 "metadata": {
  "kernelspec": {
   "display_name": "Python 3 (ipykernel)",
   "language": "python",
   "name": "python3"
  },
  "language_info": {
   "codemirror_mode": {
    "name": "ipython",
    "version": 3
   },
   "file_extension": ".py",
   "mimetype": "text/x-python",
   "name": "python",
   "nbconvert_exporter": "python",
   "pygments_lexer": "ipython3",
   "version": "3.11.11"
  }
 },
 "nbformat": 4,
 "nbformat_minor": 5
}
