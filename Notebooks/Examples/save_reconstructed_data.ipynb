{
 "cells": [
  {
   "cell_type": "markdown",
   "id": "0e61850f-c26c-4aa7-b743-18b7852ee02e",
   "metadata": {},
   "source": [
    "**Save the reconstructed data to shapefiles.**\n",
    "\n",
    "The **\"get_\"** methods return GeoDataFrame objects. You may save the data to other file formats, check out the [GeoDataFrame doc](\n",
    "https://geopandas.org/en/stable/docs/reference/api/geopandas.GeoDataFrame.to_file.html)."
   ]
  },
  {
   "cell_type": "code",
   "execution_count": null,
   "id": "388ee9e5-4f7a-4c19-894e-bcfcf56c9279",
   "metadata": {},
   "outputs": [],
   "source": [
    "from gplately import auxiliary\n",
    "\n",
    "# use the auxiliary function to create a PlotTopologies instance\n",
    "gplot = auxiliary.get_gplot(\"Muller2019\", time=100)  # 100Ma\n",
    "\n",
    "# save the reconstructed geometries to shapefiles\n",
    "gplot.get_continents().to_file(\"continents_100Ma.shp\")\n",
    "gplot.get_coastlines().to_file(\"coastlines_100Ma.shp\")\n",
    "gplot.get_topological_plate_boundaries().to_file(\n",
    "    \"topological_plate_boundaries_100Ma.shp\"\n",
    ")"
   ]
  }
 ],
 "metadata": {
  "kernelspec": {
   "display_name": "Python 3 (ipykernel)",
   "language": "python",
   "name": "python3"
  },
  "language_info": {
   "codemirror_mode": {
    "name": "ipython",
    "version": 3
   },
   "file_extension": ".py",
   "mimetype": "text/x-python",
   "name": "python",
   "nbconvert_exporter": "python",
   "pygments_lexer": "ipython3",
   "version": "3.11.11"
  }
 },
 "nbformat": 4,
 "nbformat_minor": 5
}
