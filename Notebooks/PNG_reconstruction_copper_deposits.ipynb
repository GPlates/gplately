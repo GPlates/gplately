{
 "cells": [
  {
   "cell_type": "markdown",
   "metadata": {},
   "source": [
    "# This notebook plots the distribution of copper deposits in Papua New Guinea and associated ages. Data is from Holms et al., 2019\n",
    "\n",
    "# https://www.sciencedirect.com/science/article/pii/S0169136817307783\n"
   ]
  },
  {
   "cell_type": "markdown",
   "metadata": {},
   "source": [
    "<img src=\"https://ars.els-cdn.com/content/image/1-s2.0-S0169136817307783-gr2_lrg.jpg\" width=\"500\" height=\"600\">"
   ]
  },
  {
   "cell_type": "code",
   "execution_count": null,
   "metadata": {},
   "outputs": [],
   "source": [
    "import gplately\n",
    "\n",
    "import pandas as pd\n",
    "import numpy as np\n",
    "import pygplates\n",
    "import glob, os\n",
    "import matplotlib.pyplot as plt\n",
    "import cartopy.crs as ccrs"
   ]
  },
  {
   "cell_type": "markdown",
   "metadata": {},
   "source": [
    "Presently, we still have to point to these data. In the future, a set of topologies, rotation files, age grids, etc. could be downloaded from a server."
   ]
  },
  {
   "cell_type": "code",
   "execution_count": null,
   "metadata": {
    "scrolled": true
   },
   "outputs": [],
   "source": [
    "# Input rotation and topology files.\n",
    "input_directory = '/home/workspace/pygplates/SEMP_codes/Muller_etal_2019_PlateMotionModel_v2.0_Tectonics/'\n",
    "\n",
    "rotation_filenames = glob.glob(os.path.join(input_directory, '*.rot'))\n",
    "rotation_model = pygplates.RotationModel(rotation_filenames)\n",
    "\n",
    "coastlines = input_directory+\"StaticGeometries/Coastlines/Global_coastlines_2019_v1_low_res.shp\"\n",
    "continents = input_directory+\"StaticGeometries/ContinentalPolygons/Global_EarthByte_GPlates_PresentDay_ContinentalPolygons_2019_v1.shp\"\n",
    "static_polygons = input_directory+\"StaticGeometries/StaticPolygons/Global_EarthByte_GPlates_PresentDay_StaticPlatePolygons_2019_v1.shp\"\n",
    "COBs = input_directory+\"StaticGeometries/COBLineSegments/Global_EarthByte_GeeK07_COBLineSegments_2019_v1.shp\"\n",
    "\n",
    "topology_filenames = glob.glob(os.path.join(input_directory, '*.gpml'))\n",
    "topology_features = pygplates.FeatureCollection()\n",
    "for topology_filename in topology_filenames:\n",
    "    if \"Inactive\" not in topology_filename:\n",
    "        topology_features.add( pygplates.FeatureCollection(topology_filename) )\n",
    "    else:\n",
    "        topology_filenames.remove(topology_filename)\n"
   ]
  },
  {
   "cell_type": "markdown",
   "metadata": {},
   "source": [
    "## Making plate reconstructions\n",
    "\n",
    "We simply supply a rotation model, plate topologies, and static polygons to initialise a plate reconstruction model."
   ]
  },
  {
   "cell_type": "code",
   "execution_count": null,
   "metadata": {},
   "outputs": [],
   "source": [
    "model = gplately.PlateReconstruction(rotation_model, topology_features, static_polygons)"
   ]
  },
  {
   "cell_type": "markdown",
   "metadata": {},
   "source": [
    "## Uploading and reconstructing the data points\n",
    "Now that we have defined our reconstruction object, we can reconstruct point data."
   ]
  },
  {
   "cell_type": "code",
   "execution_count": null,
   "metadata": {},
   "outputs": [],
   "source": [
    "df = pd.read_csv('/home/workspace/pygplates/SEMP_codes/PNG_Cu/Holm_et_al_2019_Table_1_ed.csv', sep=',',header=0)\n",
    "\n",
    "#Selecting the points by age group so that they appear only at a given times in the simulation\n",
    "gpts1=gplately.Points(model, df['Longitude'][df.Age_group==1], df['Latitude'][df.Age_group==1])\n",
    "gpts2=gplately.Points(model, df['Longitude'][df.Age_group==2], df['Latitude'][df.Age_group==2])\n",
    "gpts3=gplately.Points(model, df['Longitude'][df.Age_group==3], df['Latitude'][df.Age_group==3])\n",
    "gpts4=gplately.Points(model, df['Longitude'][df.Age_group==4], df['Latitude'][df.Age_group==4])\n",
    "gpts5=gplately.Points(model, df['Longitude'][df.Age_group==5], df['Latitude'][df.Age_group==5])\n",
    "gpts6=gplately.Points(model, df['Longitude'][df.Age_group==6], df['Latitude'][df.Age_group==6])\n",
    "gpts7=gplately.Points(model, df['Longitude'][df.Age_group==7], df['Latitude'][df.Age_group==7])\n",
    "\n",
    "#there are no deposits of ages between 16-20 Ma so we create two points that aren't in the extent of the map\n",
    "gptse=gplately.Points(model, 0, 0)\n",
    "\n"
   ]
  },
  {
   "cell_type": "markdown",
   "metadata": {},
   "source": [
    "## Plotting\n",
    "\n",
    "The `PlotTopologies` function injests the plate model we have defined as well as the coastlines, continents, and COB. It computes all of the plate topologies for a given reconstruction time.\n",
    "\n",
    "This object has been designed to work specifically with `cartopy`. Define your figure and supply your axes to these plotting routines. Some common favourites include:\n",
    "\n",
    "- coastlines\n",
    "- continents\n",
    "- ridges and transforms\n",
    "- trenches\n",
    "- subduction teeth (!!)\n",
    "- netCDF grids\n",
    "- plate motion vectors\n",
    "\n",
    "You can still supply optional keywords as you normally would."
   ]
  },
  {
   "cell_type": "code",
   "execution_count": null,
   "metadata": {},
   "outputs": [],
   "source": [
    "#The following lines of code plot tectonic reconstructions every 1Myr and plot the location of ore deposits of a given age\n",
    "#The age of the deposits are listed in the original dataset but the issue is that the ages are listed as an age range \n",
    "# e.g. df.Age_for_plot_Ma[df.Age_group==1]\n",
    "#To relate the age of the deposit to the age of the reconstruction I use the lists ages and gpts\n",
    "#Also the age ranges change in size and there are not copper deposits between 16-20Ma\n",
    "\n",
    "ages=[0,0,0,0,1,1,1,2,2,2,3,3,3,4,4,4, 5,5,5,5,5,6,6,6,6,7,7,7]#[0-3, 3-6, 6-9, 9-12, 12-15, 16-20, 21-24, 24-27]Ma\n",
    "gpts = [gpts1, gpts2, gpts3, gpts4, gpts5, gptse, gpts6, gpts7]\n",
    "\n",
    "for time, i in enumerate(ages): \n",
    "    # Calculate velocity data at this time using flattened x and y mesh arrays\n",
    "    Xnodes = np.arange(-180,180,5)\n",
    "    Ynodes = np.arange(-90,90,5)\n",
    "\n",
    "    # Generate the meshnode point feature and flatten back into 1d lat-lon arrays\n",
    "    xnode_mesh,ynode_mesh = np.meshgrid(Xnodes,Ynodes)\n",
    "    x_flattened = xnode_mesh.flatten()\n",
    "    y_flattened = ynode_mesh.flatten()\n",
    "    all_velocities = model.get_point_velocities(x_flattened, y_flattened, time, delta_time=1.0)\n",
    "    \n",
    "    # plot the map\n",
    "    fig = plt.figure(figsize=(13,7.5),dpi=300)\n",
    "    ax2 = fig.add_subplot(111, projection=ccrs.PlateCarree())\n",
    "    ax2.gridlines(crs=ccrs.PlateCarree(), draw_labels=False,\n",
    "                      xlocs=list(range(-180,180,10)), ylocs=list(range(-90,90,10)),\n",
    "                      linewidth=1, color='gray', alpha=0.5, linestyle='-')\n",
    "    ax2.set_extent([120, 170, 10, -22])\n",
    "    # set this time on the gplot object\n",
    "    gplot.time = time\n",
    "\n",
    "    gplot.plot_continents(ax2, edgecolor='none', facecolor='0.90')\n",
    "    gplot.plot_coastlines(ax2, edgecolor=(0,0,0,0.9), facecolor='none', linewidth=0.5)\n",
    "    gplot.plot_trenches(ax2, linewidth=1.5)\n",
    "    gplot.plot_subduction_teeth(ax2, spacing=0.01, size=0.5)\n",
    "    gplot.plot_plate_motion_vectors(ax2, regrid_shape=10, alpha=0.2, color='green', zorder=2, \n",
    "                                    spacingX=5, spacingY=5)\n",
    "    print(time, i)\n",
    "    \n",
    "    #Plot the paleo-location of the deposits\n",
    "    rlons, rlats = gpts[i].reconstruct(time)\n",
    "    ax2.scatter(rlons, rlats, transform=ccrs.PlateCarree(), zorder=10, color=(1,0,0,1)) \n",
    "    \n",
    "    ax2.axes.set_title(str(time)+' Ma')\n",
    "    plt.tight_layout(2)\n",
    "    #Save each of the reconstructions in a separate file\n",
    "    plt.savefig('./outputs_velocity_vectors_1Myr/PNG_plate_velocity_vectors%d_Ma.png' % time)"
   ]
  },
  {
   "cell_type": "code",
   "execution_count": null,
   "metadata": {},
   "outputs": [],
   "source": [
    "import glob\n",
    "\n",
    "frame_list = []\n",
    "\n",
    "#read all the files and use the timestamp and sort them in reverse order so that the videos are created in geologic order (old to young)\n",
    "frame_list = sorted(glob.glob(\"./outputs_velocity_vectors_1Myr/*.png\"), key=os.path.getmtime,  reverse=True)\n",
    "\n"
   ]
  },
  {
   "cell_type": "code",
   "execution_count": null,
   "metadata": {},
   "outputs": [],
   "source": [
    "import moviepy.editor as mpy\n",
    "\n",
    "clip = mpy.ImageSequenceClip(frame_list, fps=2)\n",
    "clip.write_gif('./outputs_velocity_vectors_1Myr/PNG_plate_velocity_vectors_red_notnom_1Myr_2fps.gif')\n",
    "\n"
   ]
  },
  {
   "cell_type": "markdown",
   "metadata": {},
   "source": [
    "# Plotting the velocity vectors as streamplot"
   ]
  },
  {
   "cell_type": "code",
   "execution_count": null,
   "metadata": {},
   "outputs": [],
   "source": [
    "# Extract the north and east velocity components and create u,v velocity components with them\n",
    "pt_vel_n=[]\n",
    "pt_vel_e=[]\n",
    "for vel in all_velocities:\n",
    "    pt_vel_e.append(vel[1])\n",
    "    pt_vel_n.append(vel[0])\n",
    "    \n",
    "u = np.asarray(pt_vel_e).reshape((Ynodes.shape[0],Xnodes.shape[0]))\n",
    "v = np.asarray(pt_vel_n).reshape((Ynodes.shape[0],Xnodes.shape[0]))\n",
    "x = Xnodes\n",
    "y = Ynodes"
   ]
  },
  {
   "cell_type": "code",
   "execution_count": null,
   "metadata": {},
   "outputs": [],
   "source": [
    "#Plotting the velocity vectors as streamplot\n",
    "ages=[0,0,0,0,1,1,1,2,2,2,3,3,3,4,4,4, 5,5,5,5,5,6,6,6,6,7,7,7]#[0-3, 3-6, 6-9, 9-12, 12-15, 16-20, 21-24, 24-27]Ma\n",
    "gpts = [gpts1, gpts2, gpts3, gpts4, gpts5, gptse, gpts6, gpts7]\n",
    "\n",
    "gplot = gplately.plot.PlotTopologies(model, time, coastlines, continents, COBs)\n",
    "\n",
    "for time, i in enumerate(ages): \n",
    "    Xnodes = np.arange(-180,180,5)\n",
    "    Ynodes = np.arange(-90,90,5)\n",
    "\n",
    "    # Generate the meshnode point feature and flatten back into 1d lat-lon arrays\n",
    "    xnode_mesh,ynode_mesh = np.meshgrid(Xnodes,Ynodes)\n",
    "    x_flattened = xnode_mesh.flatten()\n",
    "    y_flattened = ynode_mesh.flatten()\n",
    "    \n",
    "    # Calculate velocity data at this time using flattened x and y mesh arrays\n",
    "    all_velocities = model.get_point_velocities(x_flattened, y_flattened, time, delta_time=1.0)\n",
    "    \n",
    "    # Extract the north and east velocity components and recreate u,v velocity components with them at this time\n",
    "    pt_vel_n=[]\n",
    "    pt_vel_e=[]\n",
    "    for vel in all_velocities:\n",
    "        pt_vel_e.append(vel[1])\n",
    "        pt_vel_n.append(vel[0])\n",
    "\n",
    "    u = np.asarray(pt_vel_e).reshape((Ynodes.shape[0],Xnodes.shape[0]))\n",
    "    v = np.asarray(pt_vel_n).reshape((Ynodes.shape[0],Xnodes.shape[0]))\n",
    "\n",
    "\n",
    "    # plot the map\n",
    "    fig = plt.figure(figsize=(16,12),dpi=300)\n",
    "    ax2 = fig.add_subplot(111, projection=ccrs.PlateCarree())\n",
    "    ax2.gridlines(crs=ccrs.PlateCarree(), draw_labels=False,\n",
    "                      xlocs=list(range(-180,180,10)), ylocs=list(range(-90,90,10)),\n",
    "                      linewidth=1, color='gray', alpha=0.5, linestyle='-')\n",
    "    ax2.set_extent([120, 170, 10, -20])\n",
    "    # set this time on the gplot object\n",
    "    gplot.time = time\n",
    "\n",
    "    gplot.plot_continents(ax2, edgecolor='none', facecolor='0.90')\n",
    "    gplot.plot_coastlines(ax2, edgecolor=(0,0,0,0.9), facecolor='none', linewidth=0.5)\n",
    "    gplot.plot_trenches(ax2, linewidth=1.5)\n",
    "    gplot.plot_subduction_teeth(ax2, spacing=0.01, size=0.5)\n",
    "\n",
    "\n",
    "    #Plot the paleo-location of the deposits\n",
    "    rlons, rlats = gpts[i].reconstruct(time)\n",
    "    ax2.scatter(rlons, rlats, transform=ccrs.PlateCarree(), zorder=10, color=(1,0,0,1)) \n",
    "\n",
    "    #Create the streamplot, using speed as a colormap.\n",
    "    speed = np.sqrt(u**2 + v**2)\n",
    "    S = ax2.streamplot(x,y,u,v,color=speed, transform=ccrs.PlateCarree(), \n",
    "                       linewidth=0.02*speed, cmap=plt.cm.rainbow, density=2)\n",
    "    fig.colorbar(S.lines, shrink=0.5).set_label('Velocity magntitude (cm/yr)',fontsize=12)\n",
    "    ax2.axes.set_title(str(time)+' Ma')\n",
    "    plt.savefig('./outputs/plate_velocity_stream_plot_%d_Ma.png' % time)\n",
    "\n",
    "    print('Image for %d Ma saved' % time)\n"
   ]
  }
 ],
 "metadata": {
  "kernelspec": {
   "display_name": "Python 3",
   "language": "python",
   "name": "python3"
  },
  "language_info": {
   "codemirror_mode": {
    "name": "ipython",
    "version": 3
   },
   "file_extension": ".py",
   "mimetype": "text/x-python",
   "name": "python",
   "nbconvert_exporter": "python",
   "pygments_lexer": "ipython3",
   "version": "3.6.9"
  }
 },
 "nbformat": 4,
 "nbformat_minor": 4
}
