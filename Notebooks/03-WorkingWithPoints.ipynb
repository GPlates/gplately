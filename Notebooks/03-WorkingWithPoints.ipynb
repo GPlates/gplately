{
 "cells": [
  {
   "cell_type": "markdown",
   "id": "c12fb574-905f-4e3d-997d-7c2b8a8a86d6",
   "metadata": {},
   "source": [
    "# 3 - Working with points\n",
    "\n",
    "In this notebooks we use gplately to manipulate and reconstruct point data.\n",
    "\n",
    "```python\n",
    "gpts = gplately.Points(\n",
    "    plate_reconstruction, # plate reconstruction model\n",
    "    lons, # list or numpy array of longitudinal coordinates\n",
    "    lats, # list or numpy array of latitudinal coordinates\n",
    "    time=0, # time is set to the present day by default\n",
    "    plate_id=None # optionally pass an array (or single integer) of pre-determined plate IDs\n",
    "    age=numpy.inf # optionally pass an array (or single float) of pre-determined appearance ages (defaults to: appearing for all time)\n",
    ")\n",
    "```\n",
    "\n",
    "In this example, we will reconstruct data from the [Paleobiology Database (PBDB)](https://paleobiodb.org/#/). This data is in csv format."
   ]
  },
  {
   "cell_type": "code",
   "execution_count": null,
   "id": "866c6f97-515c-480b-8ba8-b2f9a033c85f",
   "metadata": {},
   "outputs": [],
   "source": [
    "import pandas as pd\n",
    "import numpy as np\n",
    "import gplately\n",
    "import matplotlib.pyplot as plt\n",
    "import cartopy.crs as ccrs\n",
    "from plate_model_manager import PlateModelManager"
   ]
  },
  {
   "cell_type": "markdown",
   "id": "bbdff197",
   "metadata": {},
   "source": [
    "We first download Müller et al. (2019) plate reconstruction model files to use in this Notebook, and set up the `PlateReconstruction` and `PlotTopologies` objects (call them `model` and `gplot`) from these model files."
   ]
  },
  {
   "cell_type": "code",
   "execution_count": null,
   "id": "00d9203b",
   "metadata": {},
   "outputs": [],
   "source": [
    "pm_manager = PlateModelManager()\n",
    "muller2019_model = pm_manager.get_model(\"Muller2019\", data_dir=\"plate-model-repo\")\n",
    "\n",
    "rotation_model = muller2019_model.get_rotation_model()\n",
    "topology_features = muller2019_model.get_topologies()\n",
    "static_polygons = muller2019_model.get_static_polygons()\n",
    "\n",
    "coastlines = muller2019_model.get_layer('Coastlines')\n",
    "continents = muller2019_model.get_layer('ContinentalPolygons')\n",
    "COBs =  muller2019_model.get_layer('COBs')\n",
    "\n",
    "model = gplately.PlateReconstruction(rotation_model, topology_features, static_polygons)\n",
    "gplot = gplately.PlotTopologies(model, coastlines=coastlines, continents=continents, COBs=COBs)"
   ]
  },
  {
   "cell_type": "markdown",
   "id": "a46ce848-e7a3-4254-80d9-f5c7f73d7cc5",
   "metadata": {},
   "source": [
    "## Download and import PBDB data\n",
    "\n",
    "We can import data from the PBDB using the data url straight into [`pandas`](https://pandas.pydata.org/docs/reference/index.html#api). Alternatively, we can download the csv file from their [website](https://paleobiodb.org/classic/displayDownloadGenerator) and import that.\n",
    "\n",
    "For importing csv files: it is often easier if the first row is the column name, although `pandas` does allow you to skip these header rows if needed.\n",
    "Conveniently, the PBDB provides an option when downloading data to exclude the metadata at the beginning of the file. "
   ]
  },
  {
   "cell_type": "code",
   "execution_count": null,
   "id": "969e74fa-2537-441a-8daa-ce7205e0e9ea",
   "metadata": {},
   "outputs": [],
   "source": [
    "# download data for the Late Cretaceous, and inclue the paleoenvironment column.\n",
    "# You can use the download page to play with the options and get the download link and/or CSV.\n",
    "pbdb_data_url = 'https://paleobiodb.org/data1.2/occs/list.csv?datainfo&rowcount&base_name=Foraminifera&interval=Jurassic&show=coords,env'\n",
    "\n",
    "## import from the URL\n",
    "pbdb_data = pd.read_csv(pbdb_data_url, sep=',', skiprows=18) "
   ]
  },
  {
   "cell_type": "code",
   "execution_count": null,
   "id": "75718239-6d9e-4b04-9ae6-fadfd3439ca4",
   "metadata": {},
   "outputs": [],
   "source": [
    "pbdb_data.columns"
   ]
  },
  {
   "cell_type": "code",
   "execution_count": null,
   "id": "33e2957d",
   "metadata": {},
   "outputs": [],
   "source": [
    "# Set up a GeoAxis plot\n",
    "fig = plt.figure(figsize=(16,12), dpi=100)\n",
    "ax = fig.add_subplot(111, projection=ccrs.Mollweide(central_longitude = 0))\n",
    "ax.set_global()\n",
    "ax.gridlines(color='0.7',linestyle='--', xlocs=np.arange(-180,180,15), ylocs=np.arange(-90,90,15))\n",
    "ax.set_title(\"Present day distribution of Jurassic Foraminifera\")\n",
    "\n",
    "# Plot shapefile features, subduction zones and MOR boundaries at 0 Ma\n",
    "gplot.time = 0 # Ma\n",
    "gplot.plot_continent_ocean_boundaries(ax, color='b', alpha=0.05)\n",
    "gplot.plot_continents(ax, facecolor='palegoldenrod', alpha=0.2)\n",
    "gplot.plot_coastlines(ax, color='DarkGrey')\n",
    "gplot.plot_ridges(ax, color='red')\n",
    "gplot.plot_trenches(ax, color='k')\n",
    "gplot.plot_subduction_teeth(ax, color='k')\n",
    "\n",
    "sc = ax.scatter(pbdb_data['lng'], pbdb_data['lat'], color='orange', \n",
    "                transform=ccrs.PlateCarree(), label='Jurassic Foraminifera')\n",
    "ax.legend(frameon=False)"
   ]
  },
  {
   "cell_type": "markdown",
   "id": "1c986392-d229-422b-8c84-c6f7e487c4a2",
   "metadata": {},
   "source": [
    "\n",
    "## Reconstruct PBDB data with GPlately\n",
    "\n",
    "Use the lon, lat coordinates and mean age of the PBDB data. \n",
    "\n",
    "The `Points` object needs the `PlateReconstruction` object as a parameter.\n",
    "\n",
    "We can create the `PlateReconstruction` object with a `rotation_model`, `topology_features` and some `static_polygons`, which we can get using GPlately's `DataServer` object. Let's get these files from Müller et al. 2019 and call the DataServer object `gdownload`. "
   ]
  },
  {
   "cell_type": "code",
   "execution_count": null,
   "id": "f24d55de",
   "metadata": {},
   "outputs": [],
   "source": [
    "gpts = gplately.Points(model, pbdb_data['lng'], pbdb_data['lat'])\n",
    "\n",
    "reconstruction_time = np.mean(0.5*(pbdb_data['min_ma'] + pbdb_data['max_ma']))\n",
    "rlons, rlats = gpts.reconstruct(reconstruction_time, return_array=True)"
   ]
  },
  {
   "cell_type": "code",
   "execution_count": null,
   "id": "51e2d517",
   "metadata": {},
   "outputs": [],
   "source": [
    "# Set up a GeoAxis plot\n",
    "fig = plt.figure(figsize=(16,12), dpi=100)\n",
    "ax = fig.add_subplot(111, projection=ccrs.Mollweide(central_longitude = 0))\n",
    "ax.set_global()\n",
    "ax.gridlines(color='0.7',linestyle='--', xlocs=np.arange(-180,180,15), ylocs=np.arange(-90,90,15))\n",
    "ax.set_title(\"Reconstructed locations of Jurassic Foraminifera\")\n",
    "\n",
    "# Plot shapefile features, subduction zones and MOR boundaries at 0 Ma\n",
    "gplot.time = reconstruction_time # Ma\n",
    "gplot.plot_continent_ocean_boundaries(ax, color='b', alpha=0.05)\n",
    "gplot.plot_continents(ax, facecolor='palegoldenrod', alpha=0.2)\n",
    "gplot.plot_coastlines(ax, color='DarkGrey')\n",
    "gplot.plot_ridges(ax, color='red')\n",
    "gplot.plot_trenches(ax, color='k')\n",
    "gplot.plot_subduction_teeth(ax, color='k')\n",
    "\n",
    "sc = ax.scatter(rlons, rlats, color='orange', \n",
    "                transform=ccrs.PlateCarree(), label='Jurassic Foraminifera')\n",
    "ax.legend(frameon=False)"
   ]
  },
  {
   "cell_type": "markdown",
   "id": "b1a10362",
   "metadata": {},
   "source": [
    "We can make this map look a little bit nicer by condensing data that are close to each other. One way is to bin data by longitude/latitudinal grid cell. Alternatively we can use `stripy` to create an icosohedral mesh which has relatively uniform point spacing."
   ]
  },
  {
   "cell_type": "code",
   "execution_count": null,
   "id": "5e620e58",
   "metadata": {},
   "outputs": [],
   "source": [
    "import stripy\n",
    "\n",
    "mesh = stripy.spherical_meshes.icosahedral_mesh(refinement_levels=5, tree=True)"
   ]
  },
  {
   "cell_type": "code",
   "execution_count": null,
   "id": "1bd18772",
   "metadata": {},
   "outputs": [],
   "source": [
    "distance, indices = mesh.nearest_vertices(np.deg2rad(rlons), np.deg2rad(rlats))\n",
    "\n",
    "uindices, ucount = np.unique(indices, return_counts=True)\n",
    "\n",
    "ulons = np.rad2deg(mesh.lons[uindices])\n",
    "ulats = np.rad2deg(mesh.lats[uindices])"
   ]
  },
  {
   "cell_type": "code",
   "execution_count": null,
   "id": "a807b7b1",
   "metadata": {},
   "outputs": [],
   "source": [
    "# Set up a GeoAxis plot\n",
    "fig = plt.figure(figsize=(10,12), dpi=300)\n",
    "ax = fig.add_subplot(111, projection=ccrs.Mollweide(central_longitude = 0))\n",
    "ax.set_global()\n",
    "ax.gridlines(color='0.7',linestyle='--', xlocs=np.arange(-180,180,15), ylocs=np.arange(-90,90,15))\n",
    "ax.set_title(\"Reconstructed locations of Jurassic Foraminifera\")\n",
    "\n",
    "# Plot shapefile features, subduction zones and MOR boundaries at 0 Ma\n",
    "gplot.time = reconstruction_time # Ma\n",
    "# gplot.plot_continent_ocean_boundaries(ax, color='b', alpha=0.05)\n",
    "# gplot.plot_continents(ax, facecolor='palegoldenrod', alpha=0.2)\n",
    "gplot.plot_coastlines(ax, color='DarkGrey')\n",
    "gplot.plot_ridges(ax, color='red')\n",
    "gplot.plot_transforms(ax, color='red')\n",
    "gplot.plot_trenches(ax, color='k')\n",
    "gplot.plot_subduction_teeth(ax, color='k')\n",
    "\n",
    "mask_interval = np.ones_like(ucount, dtype=bool)\n",
    "\n",
    "sc = ax.scatter(ulons, ulats, s=50+ucount, color='DarkOrange', edgecolor='k', alpha=0.5,\n",
    "           transform=ccrs.PlateCarree(), label='Jurassic Foraminifera', zorder=10)\n",
    "\n",
    "handles, labels = sc.legend_elements(prop=\"sizes\", num=5, color='DarkOrange', markeredgecolor='k')\n",
    "ax.legend(handles, labels, loc=\"upper right\", title=\"Number of\\nForaminifera\", labelspacing=3, handletextpad=2,\n",
    "         bbox_to_anchor=(1.2,1.05), frameon=False)\n",
    "\n",
    "fig.savefig(\"Reconstruct_Jurassic_Foraminifera.pdf\", bbox_inches='tight')"
   ]
  },
  {
   "cell_type": "markdown",
   "id": "aabf0351",
   "metadata": {},
   "source": [
    "## Add feature attributes\n",
    "\n",
    "Adding attributes to each point can be done seamlessly using the `add_attributes` method by supplying keyword-value pairs. Some key attributes that can easily be read by GPlates include:\n",
    "\n",
    "- __FROMAGE__: the 'from' age specifies the oldest limit the data was active\n",
    "- __TOAGE__: the 'to' age specifies the youngest limit the data was active\n",
    "- __PLATEID__: the plate ID\n",
    "\n",
    "Below, we add FROMAGE and TOAGE attributes to the `Points` object and save to a GPML file which can be directly read by GPlates."
   ]
  },
  {
   "cell_type": "code",
   "execution_count": null,
   "id": "97de9acf",
   "metadata": {},
   "outputs": [],
   "source": [
    "gpts.add_attributes(FROMAGE=pbdb_data['max_ma'],\n",
    "                      TOAGE=pbdb_data['min_ma'])\n",
    "\n",
    "# save to file\n",
    "gpts.save(\"pbdb_data.csv\")\n",
    "gpts.save(\"pbdb_data.gpml\")"
   ]
  },
  {
   "cell_type": "code",
   "execution_count": null,
   "id": "c46dd3f4",
   "metadata": {},
   "outputs": [],
   "source": []
  }
 ],
 "metadata": {
  "kernelspec": {
   "display_name": "Python 3 (ipykernel)",
   "language": "python",
   "name": "python3"
  },
  "language_info": {
   "codemirror_mode": {
    "name": "ipython",
    "version": 3
   },
   "file_extension": ".py",
   "mimetype": "text/x-python",
   "name": "python",
   "nbconvert_exporter": "python",
   "pygments_lexer": "ipython3",
   "version": "3.11.11"
  }
 },
 "nbformat": 4,
 "nbformat_minor": 5
}
