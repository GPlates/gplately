{
 "cells": [
  {
   "cell_type": "markdown",
   "metadata": {},
   "source": [
    "# 1 - Getting Started\n",
    "\n",
    "_Welcome to GPlately!_\n",
    "\n",
    "GPlately uses object-oriented programming to make life simple. In this notebook we will explore some of the main objects you will use:\n",
    "\n",
    "- `PlateReconstruction` - reconstruct features, tessellate mid ocean ridges, subduction zones\n",
    "- `Points` - partition points onto plates, rotate back through time\n",
    "- `Raster` - read in NetCDF grids, interpolation, resampling.\n",
    "- `PlotTopologies` - plotting topologies e.g. ridges, trenches, subduction teeth on maps\n",
    "- `PlateModelManager` - downloading plate models, features, and rasters e.g. .rot, .gpml, .shp and .nc files"
   ]
  },
  {
   "cell_type": "code",
   "execution_count": null,
   "metadata": {},
   "outputs": [],
   "source": [
    "import cartopy.crs as ccrs\n",
    "import gplately\n",
    "import matplotlib.pyplot as plt\n",
    "import numpy as np\n",
    "from plate_model_manager import PlateModelManager"
   ]
  },
  {
   "cell_type": "markdown",
   "metadata": {},
   "source": [
    "## Tectonic plate reconstructions\n",
    "\n",
    "We simply supply a rotation model, plate topologies, and static polygons to initialise a plate reconstruction model. You can download these files into your machine's cache using GPlately's `PlateModelManager` object."
   ]
  },
  {
   "cell_type": "code",
   "execution_count": null,
   "metadata": {},
   "outputs": [],
   "source": [
    "# Call GPlately's PlateModelManager object and request data from the Müller et al. 2019 study\n",
    "pm_manager = PlateModelManager()\n",
    "muller2019_model = pm_manager.get_model(\"Muller2019\", data_dir=\"plate-model-repo\")\n",
    "rotation_model = muller2019_model.get_rotation_model()\n",
    "topology_features = muller2019_model.get_topologies()\n",
    "static_polygons = muller2019_model.get_static_polygons()\n",
    "\n",
    "# Tessellate the subduction zones to 0.5 degrees.\n",
    "tessellation_threshold_radians = np.radians(0.05)\n",
    "\n",
    "model = gplately.PlateReconstruction(rotation_model, topology_features, static_polygons)"
   ]
  },
  {
   "cell_type": "markdown",
   "metadata": {},
   "source": [
    "Now let's find the subduction zones and mid-ocean ridges at 10 Ma."
   ]
  },
  {
   "cell_type": "code",
   "execution_count": null,
   "metadata": {},
   "outputs": [],
   "source": [
    "time = 10\n",
    "\n",
    "# These bundle a lot of information - check the docs for more info.\n",
    "subduction_data = model.tessellate_subduction_zones(time)\n",
    "ridge_data = model.tessellate_mid_ocean_ridges(time)"
   ]
  },
  {
   "cell_type": "markdown",
   "metadata": {},
   "source": [
    "## Mapping\n",
    "\n",
    "The `PlotTopologies` function injests the plate model we have defined as well as the coastlines, continents, and COB. It computes all of the plate topologies for a given reconstruction time.\n",
    "\n",
    "This object has been designed to work specifically with `cartopy`. Define your figure and supply your axes to these plotting routines. Some common favourites include:\n",
    "\n",
    "- coastlines\n",
    "- continents\n",
    "- ridges and transforms\n",
    "- trenches\n",
    "- subduction teeth (!!)\n",
    "- netCDF grids\n",
    "- plate motion vectors\n",
    "\n",
    "You can still supply optional keywords as you normally would."
   ]
  },
  {
   "cell_type": "code",
   "execution_count": null,
   "metadata": {},
   "outputs": [],
   "source": [
    "# Obtain features for the PlotTopologies object with PlateModelManager\n",
    "coastlines = muller2019_model.get_layer('Coastlines')\n",
    "continents = muller2019_model.get_layer('ContinentalPolygons')\n",
    "COBs =  muller2019_model.get_layer('COBs')\n",
    "\n",
    "# Call the PlotTopologies object\n",
    "gplot = gplately.plot.PlotTopologies(model, coastlines=coastlines, continents=continents, COBs=COBs)\n",
    "\n",
    "# Download all Muller et al. 2019 netCDF age grids with PlateModelManager. This is returned as a Raster object.\n",
    "agegrid = gplately.Raster(data=muller2019_model.get_raster(\"AgeGrids\",time))"
   ]
  },
  {
   "cell_type": "markdown",
   "metadata": {},
   "source": [
    "Set the `time` attribute to reconstruct all topologies to the specified time.\n",
    "\n",
    "> __IMPORTANT:__ You must set `gplot.time` or provide a `time` at initialisation before plotting anything."
   ]
  },
  {
   "cell_type": "code",
   "execution_count": null,
   "metadata": {},
   "outputs": [],
   "source": [
    "gplot.time = 10 # Ma"
   ]
  },
  {
   "cell_type": "markdown",
   "metadata": {},
   "source": [
    "Create a map with some useful geological information"
   ]
  },
  {
   "cell_type": "code",
   "execution_count": null,
   "metadata": {},
   "outputs": [],
   "source": [
    "fig = plt.figure(figsize=(16,12))\n",
    "\n",
    "ax1 = fig.add_subplot(111, projection=ccrs.Mollweide(190))\n",
    "\n",
    "gplot.plot_continents(ax1, facecolor='0.8')\n",
    "gplot.plot_coastlines(ax1, color='0.5')\n",
    "gplot.plot_ridges(ax1, color='red')\n",
    "gplot.plot_transforms(ax1, color='red')\n",
    "gplot.plot_trenches(ax1, color='k')\n",
    "gplot.plot_subduction_teeth(ax1, color='k')\n",
    "im = gplot.plot_grid(ax1, agegrid.data, cmap='YlGnBu', vmin=0, vmax=200)\n",
    "gplot.plot_plate_motion_vectors(ax1, spacingX=10, spacingY=10, normalise=True, zorder=10, alpha=0.5)\n",
    "\n",
    "fig.colorbar(im, orientation='horizontal', shrink=0.4, pad=0.05, label='Age (Ma)')"
   ]
  },
  {
   "cell_type": "code",
   "execution_count": null,
   "metadata": {},
   "outputs": [],
   "source": [
    "# update the time to regenerate topologies\n",
    "time = 100\n",
    "gplot.time = time\n",
    "agegrid = gplately.Raster(data=muller2019_model.get_raster(\"AgeGrids\",time))\n",
    "\n",
    "fig = plt.figure(figsize=(16,12))\n",
    "\n",
    "ax1 = fig.add_subplot(111, projection=ccrs.Mollweide(190))\n",
    "\n",
    "gplot.plot_continents(ax1, facecolor='0.8')\n",
    "gplot.plot_coastlines(ax1, color='0.5')\n",
    "gplot.plot_ridges(ax1, color='red')\n",
    "gplot.plot_transforms(ax1, color='red')\n",
    "gplot.plot_trenches(ax1, color='k')\n",
    "gplot.plot_subduction_teeth(ax1, color='k')\n",
    "im = gplot.plot_grid(ax1, agegrid.data, cmap='YlGnBu', vmin=0, vmax=200)\n",
    "gplot.plot_plate_motion_vectors(ax1, spacingX=10, spacingY=10, normalise=True, zorder=10, alpha=0.5)\n",
    "\n",
    "fig.colorbar(im, orientation='horizontal', shrink=0.4, pad=0.05, label='Age (Ma)')"
   ]
  },
  {
   "cell_type": "markdown",
   "metadata": {},
   "source": [
    "## Working with points\n",
    "\n",
    "Now that we have defined our reconstruction object, we can reconstruct point data."
   ]
  },
  {
   "cell_type": "code",
   "execution_count": null,
   "metadata": {},
   "outputs": [],
   "source": [
    "pt_lons = np.array([140., 150., 160.])\n",
    "pt_lats = np.array([-30., -40., -50.])\n",
    "\n",
    "gpts = gplately.Points(model, pt_lons, pt_lats)\n",
    "\n",
    "# Point velocities at 0 Ma.\n",
    "vel_x, vel_y = gpts.plate_velocity(0)\n",
    "vel_mag = np.hypot(vel_x, vel_y)\n",
    "\n",
    "print(\"point velocity (cm/yr)\", vel_mag)"
   ]
  },
  {
   "cell_type": "markdown",
   "metadata": {},
   "source": [
    "Plot their position from `time=0` to `time=20`"
   ]
  },
  {
   "cell_type": "code",
   "execution_count": null,
   "metadata": {},
   "outputs": [],
   "source": [
    "rlons = np.empty((21, pt_lons.size))\n",
    "rlats = np.empty((21, pt_lons.size))\n",
    "\n",
    "\n",
    "for time in range(0, 21):\n",
    "    rlons[time], rlats[time] = gpts.reconstruct(time, return_array=True)"
   ]
  },
  {
   "cell_type": "code",
   "execution_count": null,
   "metadata": {},
   "outputs": [],
   "source": [
    "gplot.time = 0 # present day\n",
    "\n",
    "fig = plt.figure(figsize=(16,12))\n",
    "ax1 = fig.add_subplot(111, projection=ccrs.Mercator(190)) \n",
    "ax1.set_extent([130,180,-60,-10])\n",
    "\n",
    "gplot.plot_coastlines(ax1, color='0.8')\n",
    "\n",
    "for i in range(0, len(pt_lons)):\n",
    "    ax1.plot(rlons[:,i], rlats[:,i], 'o', transform=ccrs.PlateCarree())"
   ]
  },
  {
   "cell_type": "markdown",
   "metadata": {},
   "source": [
    "## Rasters\n",
    "\n",
    "You can initialise a `Raster` object by providing a raster (either a NetCDF file path or a regular numpy array), and optionally passing a `PlateReconstruction` model. The `data` attribute stores the raster data as a 2D numpy array.\n",
    "\n",
    "In this example, we will pass a NetCDF file path to the `Raster` object."
   ]
  },
  {
   "cell_type": "code",
   "execution_count": null,
   "metadata": {},
   "outputs": [],
   "source": [
    "time = 100\n",
    "\n",
    "# download a netcdf age grid Raster and assign a plate reconstruction `model'\n",
    "graster = gplately.Raster(data=muller2019_model.get_raster(\"AgeGrids\",time))\n",
    "graster.plate_reconstruction = model\n",
    "\n",
    "# the underlying numpy (masked) array can be accessed using the data attribute\n",
    "print(type(graster.data))\n",
    "\n",
    "# alternatively initialise a Raster from a numpy array\n",
    "graster = gplately.Raster(data=graster.data, # 2D numpy array\n",
    "                          plate_reconstruction=model, # PlateReconstruction object\n",
    "                          extent='global', # equivalent to [-180, 180, -90, 90]\n",
    "                          time=100, # time in Ma\n",
    "                         )\n"
   ]
  },
  {
   "cell_type": "code",
   "execution_count": null,
   "metadata": {},
   "outputs": [],
   "source": [
    "gplot.time = time\n",
    "\n",
    "fig = plt.figure(figsize=(16,12))\n",
    "\n",
    "ax1 = fig.add_subplot(111, projection=ccrs.Robinson())\n",
    "gplot.plot_grid(ax1, graster, cmap='YlGnBu', vmin=0, vmax=100)\n",
    "# Alternatively:\n",
    "# graster.imshow(ax=ax1, cmap=\"YlGnBu\", vmin=0, vmax=100)\n",
    "gplot.plot_coastlines(ax1, edgecolor='k', facecolor='none')"
   ]
  },
  {
   "cell_type": "markdown",
   "metadata": {},
   "source": [
    "There are a bunch of routines such as,\n",
    "\n",
    "- filling masked (NaN) regions\n",
    "- interpolation\n",
    "- resampling\n",
    "- reconstructing rasters\n",
    "\n",
    "In-place operations can be achieved using `inplace=True` which will update the internal data structures."
   ]
  },
  {
   "cell_type": "code",
   "execution_count": null,
   "metadata": {},
   "outputs": [],
   "source": []
  }
 ],
 "metadata": {
  "kernelspec": {
   "display_name": "Python 3 (ipykernel)",
   "language": "python",
   "name": "python3"
  },
  "language_info": {
   "codemirror_mode": {
    "name": "ipython",
    "version": 3
   },
   "file_extension": ".py",
   "mimetype": "text/x-python",
   "name": "python",
   "nbconvert_exporter": "python",
   "pygments_lexer": "ipython3",
   "version": "3.11.11"
  },
  "vscode": {
   "interpreter": {
    "hash": "a10fed8c503fa0e7abcec38684bcaa5ab84af52f4a155e8c08912d91252721a5"
   }
  }
 },
 "nbformat": 4,
 "nbformat_minor": 4
}
