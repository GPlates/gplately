{
 "cells": [
  {
   "cell_type": "code",
   "execution_count": null,
   "id": "f5003633-363f-4d07-b857-879f9ba8726e",
   "metadata": {},
   "outputs": [],
   "source": [
    "from gplately.mapping.plot_engine import PlotEngine\n",
    "from gplately.mapping.pygmt_plot import get_pygmt_basemap_figure\n",
    "from gplately.auxiliary import get_gplot\n",
    "\n",
    "gplot = get_gplot(\"merdith2021\", \"plate-model-repo\", age=55, plot_engine=PlotEngine.PYGMT)\n",
    "fig = get_pygmt_basemap_figure(projection=\"N180/10c\", region=\"d\")\n",
    "#fig.coast(shorelines=True)\n",
    "\n",
    "gplot.plot_topological_plate_boundaries(fig, edgecolor=\"blue\", linewidth=1.0, central_meridian=180, style='f0.2/0.08+l+t')\n",
    "gplot.plot_coastlines(fig, edgecolor=\"none\", facecolor='gray', linewidth=0.1, central_meridian=180)\n",
    "\n",
    "fig.show(width=1200)\n",
    "# fig.savefig(\"test-pygmt-plot.pdf\")\n",
    "\n"
   ]
  }
 ],
 "metadata": {
  "kernelspec": {
   "display_name": "Python 3 (ipykernel)",
   "language": "python",
   "name": "python3"
  },
  "language_info": {
   "codemirror_mode": {
    "name": "ipython",
    "version": 3
   },
   "file_extension": ".py",
   "mimetype": "text/x-python",
   "name": "python",
   "nbconvert_exporter": "python",
   "pygments_lexer": "ipython3",
   "version": "3.11.9"
  }
 },
 "nbformat": 4,
 "nbformat_minor": 5
}
