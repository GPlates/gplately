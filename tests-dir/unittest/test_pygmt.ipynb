{
 "cells": [
  {
   "cell_type": "code",
   "execution_count": null,
   "id": "f5003633-363f-4d07-b857-879f9ba8726e",
   "metadata": {},
   "outputs": [],
   "source": [
    "import sys\n",
    "\n",
    "from plate_model_manager import PlateModel, PlateModelManager\n",
    "\n",
    "from gplately import PlateReconstruction, PlotTopologies\n",
    "from gplately.mapping.plot_engine import PlotEngine\n",
    "from gplately.auxiliary import get_gplot\n",
    "import pygmt\n",
    "pygmt.config(\n",
    "        FONT_ANNOT=8,\n",
    "        FONT_LABEL=8,\n",
    "        FONT=8,\n",
    "        MAP_TICK_PEN=\"0.75p\",\n",
    "        MAP_FRAME_PEN=\"0.75p\",\n",
    "        MAP_TICK_LENGTH_PRIMARY=\"4p\",\n",
    "    )\n",
    "\n",
    "gplot = get_gplot(\"merdith2021\", \"plate-model-repo\", age=55, plot_engine=PlotEngine.PYGMT)\n",
    "fig = pygmt.Figure()\n",
    "fig.basemap(region=\"d\", projection=\"N180/10c\", frame=\"lrtb\")\n",
    "#fig.coast(shorelines=True)\n",
    "\n",
    "gplot.plot_topological_plate_boundaries(fig)\n",
    "gplot.plot_coastlines(fig)\n",
    "\n",
    "fig.show(width=1200)\n",
    "# fig.savefig(\"test-pygmt-plot.pdf\")\n",
    "\n"
   ]
  },
  {
   "cell_type": "code",
   "execution_count": null,
   "id": "b25b75a3-39f1-4494-912e-7f9f502a67ce",
   "metadata": {},
   "outputs": [],
   "source": []
  }
 ],
 "metadata": {
  "kernelspec": {
   "display_name": "Python 3 (ipykernel)",
   "language": "python",
   "name": "python3"
  },
  "language_info": {
   "codemirror_mode": {
    "name": "ipython",
    "version": 3
   },
   "file_extension": ".py",
   "mimetype": "text/x-python",
   "name": "python",
   "nbconvert_exporter": "python",
   "pygments_lexer": "ipython3",
   "version": "3.11.6"
  }
 },
 "nbformat": 4,
 "nbformat_minor": 5
}
