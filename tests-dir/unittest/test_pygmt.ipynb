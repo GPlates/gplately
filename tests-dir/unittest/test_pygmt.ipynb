{
 "cells": [
  {
   "cell_type": "code",
   "execution_count": null,
   "id": "f5003633-363f-4d07-b857-879f9ba8726e",
   "metadata": {},
   "outputs": [],
   "source": [
    "from gplately.mapping.pygmt_plot import PygmtPlotEngine, get_pygmt_basemap_figure\n",
    "from gplately.auxiliary import get_gplot\n",
    "\n",
    "gplot = get_gplot(\"merdith2021\", \"plate-model-repo\", age=55, plot_engine=PygmtPlotEngine())\n",
    "fig = get_pygmt_basemap_figure(projection=\"N180/10c\", region=\"d\")\n",
    "#fig.coast(shorelines=True)\n",
    "\n",
    "gplot.plot_topological_plate_boundaries(fig, edgecolor=\"black\", linewidth=0.25, central_meridian=180, gmtlabel=\"plate boundaries\")\n",
    "gplot.plot_coastlines(fig, edgecolor=\"none\", facecolor='gray', linewidth=0.1, central_meridian=180)\n",
    "gplot.plot_ridges(fig, pen='0.5p,red', gmtlabel=\"ridges\")\n",
    "gplot.plot_transforms(fig, pen='0.5p,red', gmtlabel=\"transforms\")\n",
    "gplot.plot_subduction_teeth(fig, color=\"blue\", gmtlabel=\"subduction zones\")\n",
    "\n",
    "fig.text(text='55Ma (Merdith2021)', position=\"TC\", no_clip=True, font=\"12p,Helvetica,black\", offset=\"j0/-0.5c\")\n",
    "fig.legend(position='jBL+o-2.7/0', box=\"+gwhite+p0.5p\")\n",
    "\n",
    "fig.show(width=1200)\n",
    "# fig.savefig(\"test-pygmt-plot.pdf\")\n",
    "\n"
   ]
  },
  {
   "cell_type": "code",
   "execution_count": null,
   "id": "64cb9ddb-359d-4c67-90ae-05ba8f9e35c5",
   "metadata": {},
   "outputs": [],
   "source": []
  }
 ],
 "metadata": {
  "kernelspec": {
   "display_name": "Python 3 (ipykernel)",
   "language": "python",
   "name": "python3"
  },
  "language_info": {
   "codemirror_mode": {
    "name": "ipython",
    "version": 3
   },
   "file_extension": ".py",
   "mimetype": "text/x-python",
   "name": "python",
   "nbconvert_exporter": "python",
   "pygments_lexer": "ipython3",
   "version": "3.11.9"
  }
 },
 "nbformat": 4,
 "nbformat_minor": 5
}
